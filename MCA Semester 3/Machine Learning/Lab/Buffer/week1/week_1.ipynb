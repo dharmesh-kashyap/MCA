{
 "cells": [
  {
   "cell_type": "markdown",
   "id": "de5f81b8",
   "metadata": {},
   "source": [
    "1) Create a program that reads the length and width of a farmer’s field from the user in\n",
    "feet. Display the area of the field in acres.\n",
    "Hint: There are 43,560 square feet in an acre.\n"
   ]
  },
  {
   "cell_type": "code",
   "execution_count": 1,
   "id": "f8564f29-18f1-44ae-a0b2-faa6d1f5338d",
   "metadata": {},
   "outputs": [
    {
     "name": "stdout",
     "output_type": "stream",
     "text": [
      "Area of the farmer field in acres :  703.9409550045914\n"
     ]
    }
   ],
   "source": [
    "len = float(input('enter length of farmer field (in feet): '))\n",
    "wid = float(input('enter width of farmer field (in feet): '))\n",
    "\n",
    "acre = 43560\n",
    "area = len*wid\n",
    "area_in_acre = area/acre\n",
    "print('Area of the farmer field in acres : ', area_in_acre)"
   ]
  },
  {
   "cell_type": "markdown",
   "id": "c56893cb",
   "metadata": {},
   "source": [
    "2) Write a program that asks the user to enter the width and length of a room. Once the values have\n",
    "been read, your program should compute and display the area of the room. The length and the\n",
    "width will be entered as floating point numbers. Include units in your prompt and output message;\n",
    "either feet or meters, depending on which unit you are more comfortable working with.\n"
   ]
  },
  {
   "cell_type": "code",
   "execution_count": 2,
   "id": "fb87d718-fcda-4563-bfc6-5892b1604f25",
   "metadata": {},
   "outputs": [
    {
     "name": "stdout",
     "output_type": "stream",
     "text": [
      "Area of room :  2592.0  sq. 65\n"
     ]
    }
   ],
   "source": [
    "unit = (input('enter your measurement unit (feet or meters): '))\n",
    "len = float(input('enter the length of room: '))\n",
    "wid = float(input('enter the width of room: '))\n",
    "area = len * wid\n",
    "print('Area of room : ', area, ' sq.', unit)"
   ]
  },
  {
   "cell_type": "markdown",
   "id": "0729954b",
   "metadata": {},
   "source": [
    "3) Python includes a library of functions for working with time, including a function called asctime\n",
    "in the time module. It reads the current time from the computer’s internal clock and returns it in a\n",
    "human-readable format. Write a program that displays the current time and date. Your program\n",
    "will not require any input from the user."
   ]
  },
  {
   "cell_type": "code",
   "execution_count": 3,
   "id": "86fd9ea3-cc3d-44b7-b6f1-7a070f4c65f3",
   "metadata": {},
   "outputs": [
    {
     "name": "stdout",
     "output_type": "stream",
     "text": [
      "Current time and date:  Mon Sep  9 19:15:35 2024\n"
     ]
    }
   ],
   "source": [
    "import time\n",
    "current_time = time.asctime()\n",
    "print(\"Current time and date: \",current_time)"
   ]
  },
  {
   "cell_type": "markdown",
   "id": "923aba99",
   "metadata": {},
   "source": [
    "4) Create a program that reads the following10 data values (integers) and displays them in sorted\n",
    "order (from smallest to largest). Use the min and max functions to find the smallest and largest\n",
    "values. Also compute the 5 number summary for the data. Find the IQR value. Also find the\n",
    "outliers if any.\n",
    " Data: 16, 09, 14, 11, 13, 06, 18, 15, 10, 12"
   ]
  },
  {
   "cell_type": "code",
   "execution_count": 1,
   "id": "662c1f41-3e3e-4951-8289-7a45f565f27d",
   "metadata": {},
   "outputs": [
    {
     "name": "stdout",
     "output_type": "stream",
     "text": [
      "Sorted Data:  [6, 9, 10, 11, 12, 13, 14, 15, 16, 18]\n",
      "5-Number Summary\n",
      "Minimum value:  6\n",
      "Maximum Value:  18\n",
      "Q1:  10\n",
      "Median:  13\n",
      "Q3:  15\n",
      "IQR:  5\n",
      "Outliers:  []\n"
     ]
    }
   ],
   "source": [
    "data = [16, 9, 14, 11, 13, 6, 18, 15, 10, 12]\n",
    "\n",
    "sorted_data = sorted(data)\n",
    "\n",
    "min_value = min(sorted_data)\n",
    "max_value = max(sorted_data)\n",
    "\n",
    "Q1 = sorted_data[len(sorted_data) // 4]\n",
    "median = sorted_data[len(sorted_data) // 2]\n",
    "Q3 = sorted_data[(3*len(sorted_data)) // 4]\n",
    "\n",
    "IQR = Q3 - Q1;\n",
    "\n",
    "lower_bound = Q1 - 1.5*IQR\n",
    "upper_bound = Q3 + 1.5*IQR\n",
    "outliers = [x for x in sorted_data if x<lower_bound or x>upper_bound]\n",
    "\n",
    "print(\"Sorted Data: \", sorted_data)\n",
    "print(\"5-Number Summary\")\n",
    "print(\"Minimum value: \", min_value)\n",
    "print(\"Maximum Value: \", max_value)\n",
    "print(\"Q1: \", Q1)\n",
    "print(\"Median: \", median)\n",
    "print(\"Q3: \", Q3)\n",
    "print(\"IQR: \", IQR)\n",
    "print(\"Outliers: \", outliers)"
   ]
  },
  {
   "cell_type": "markdown",
   "id": "27a18312",
   "metadata": {},
   "source": [
    "5) Create a program that reads a letter of the alphabet from the user. If the user enters a, e, i, o or\n",
    "u then your program should display a message indicating that the entered letter is a vowel. If the\n",
    "user enters y then your program should display a message indicating that sometimes y is a vowel,\n",
    "and sometimes y is a consonant. Otherwise your program should display a message indicating that\n",
    "the letter is a consonant."
   ]
  },
  {
   "cell_type": "code",
   "execution_count": 2,
   "id": "9b06a12f-9a66-46d5-b277-02e7a3d18424",
   "metadata": {},
   "outputs": [
    {
     "name": "stdout",
     "output_type": "stream",
     "text": [
      "Letter is a consonant.\n"
     ]
    }
   ],
   "source": [
    "def determine_letter_type(letter):\n",
    "    vowels = ['a', 'e', 'i', 'o', 'u']\n",
    "    if letter in vowels:\n",
    "        return \"Letter is a vowel.\"\n",
    "    elif letter == 'y':\n",
    "        return \"Somethimes y is a vowel, and somethimes y is a consonant.\"\n",
    "    else:\n",
    "        return \"Letter is a consonant.\"\n",
    "\n",
    "letter = input(\"Please enter a letter of the alphabet: \")\n",
    "\n",
    "if len(letter)==1:\n",
    "    message = determine_letter_type(letter)\n",
    "    print(message)\n",
    "else:\n",
    "    print(\"Invalid input. Please enter a single letter of the alphabet.\")"
   ]
  },
  {
   "cell_type": "markdown",
   "id": "a305a60e",
   "metadata": {},
   "source": [
    "6) The following table lists the sound level in decibels for several common noises.\n",
    "Write a program that reads a sound level in decibels from the user. If the user enters a decibel level\n",
    "that matches one of the noises in the table then your program should display a message containing\n",
    "only that noise. If the user enters a number of decibels between the noises listed then your program\n",
    "should display a message indicating which noises the level is between. Ensure that your program\n",
    "also generates reasonable output for a value smaller than the quietest noise in the table, and for a\n",
    "value larger than the loudest noise in the table.\n"
   ]
  },
  {
   "cell_type": "code",
   "execution_count": 4,
   "id": "323a2a6a-7568-40f1-8910-3477dcab62b1",
   "metadata": {},
   "outputs": [
    {
     "name": "stdout",
     "output_type": "stream",
     "text": [
      "decibel level higher than a Jackhammer.\n"
     ]
    }
   ],
   "source": [
    "noise_level = {\n",
    "    \"Jackhammer\": 130,\n",
    "    \"Gas lawnmower\": 106,\n",
    "    \"Alarm clock\": 70,\n",
    "    \"Quiet room\": 40\n",
    "}\n",
    "\n",
    "decibel_level = int(input(\"Enter the sound level in decibels: \"))\n",
    "\n",
    "if decibel_level==noise_level[\"Jackhammer\"]:\n",
    "    print(\"Jackhammer\")\n",
    "elif decibel_level==noise_level[\"Gas lawnmower\"]:\n",
    "    print(\"Gas lawnmower\")\n",
    "elif decibel_level==noise_level[\"Alarm clock\"]:\n",
    "    print(\"Alarm clock\")\n",
    "elif decibel_level==noise_level[\"Quiet room\"]:\n",
    "    print(\"Quiet room\")\n",
    "elif decibel_level>noise_level[\"Jackhammer\"]:\n",
    "    print(\"decibel level higher than a Jackhammer.\")\n",
    "elif decibel_level<noise_level[\"Quiet room\"]:\n",
    "    print(\"decibel level lower than a Quite room\")\n",
    "elif noise_level[\"Gas lawnmower\"]<decibel_level<noise_level[\"Jackhammer\"]:\n",
    "    print(\"decibel level is between a Gas lawnmower and a Jackhammer\")\n",
    "elif noise_level[\"Alarm clock\"]<decibel_level<noise_level[\"Gas lawnmower\"]:\n",
    "    print(\"decibel level is between an Alarm clock and a Gas lawnmower\")\n",
    "elif noise_level[\"Quiet room\"]<decibel_level<noise_level[\"Alarm room\"]:\n",
    "    print(\"decibel level is betweeLn a Quite room and an alarm clock\")\n",
    "else:\n",
    "    print(\"decibel level does not match with any known noise level\")"
   ]
  },
  {
   "cell_type": "markdown",
   "id": "f4fd4bce",
   "metadata": {},
   "source": [
    "7) The marks obtained by 10 students in a class test were as follows:\n",
    " 38, 41, 36, 31, 45, 38, 27, 32, 29, 39\n",
    "Find:\n",
    " (a) The mean of their marks\n",
    " (b) The mean of their marks when the marks of each student are increased by 2\n",
    " (c) The mean of their marks when one mark is deducted from marks of each student\n",
    " (d) The mean of their marks when the marks of each student halved\n"
   ]
  },
  {
   "cell_type": "code",
   "execution_count": 38,
   "id": "aaf27eab-9d92-4639-802a-a3b2e4b946ba",
   "metadata": {},
   "outputs": [
    {
     "name": "stdout",
     "output_type": "stream",
     "text": [
      "Original mean marks:  35.6\n",
      "Increased by 2 mean marks:  37.6\n",
      "Decreased by 1 mean marks:  34.6\n",
      "Halved mean marks:  17.8\n"
     ]
    }
   ],
   "source": [
    "marks = [38, 41, 36, 31, 45, 38, 27, 32, 29, 39]\n",
    "\n",
    "mean_original = sum(marks)/len(marks)\n",
    "\n",
    "marks_increased = [mark + 2 for mark in marks]\n",
    "mean_increased = sum(marks_increased)/len(marks)\n",
    "\n",
    "marks_decreased = [mark - 1 for mark in marks]\n",
    "mean_decreased = sum(marks_decreased)/len(marks)\n",
    "\n",
    "marks_halved = [mark / 2 for mark in marks]\n",
    "mean_halved = sum(marks_halved)/len(marks)\n",
    "\n",
    "print(\"Original mean marks: \", mean_original)\n",
    "print(\"Increased by 2 mean marks: \", mean_increased)\n",
    "print(\"Decreased by 1 mean marks: \", mean_decreased)\n",
    "print(\"Halved mean marks: \", mean_halved)"
   ]
  },
  {
   "cell_type": "code",
   "execution_count": 5,
   "id": "86747e68-27c6-4b93-b83f-2be2b4edb90a",
   "metadata": {},
   "outputs": [
    {
     "name": "stdout",
     "output_type": "stream",
     "text": [
      "Enter a list of numbers separated by spaces:  12 78 34 51 68 97 82 63 73 69\n"
     ]
    },
    {
     "name": "stdout",
     "output_type": "stream",
     "text": [
      "List with outliers removed:  [51.0, 63.0, 68.0, 69.0, 73.0, 78.0]\n",
      "Original list:  [12.0, 78.0, 34.0, 51.0, 68.0, 97.0, 82.0, 63.0, 73.0, 69.0]\n"
     ]
    }
   ],
   "source": [
    "def remove_extremes(values, n):\n",
    "    if len(values)<2*n:\n",
    "        raise ValueError(\"List is too short to remove the specified number of extremes\")\n",
    "\n",
    "    sorted_values = sorted(values)\n",
    "    result = sorted_values[n:-n]\n",
    "    return result\n",
    "\n",
    "user_input = input(\"Enter a list of numbers separated by spaces: \")\n",
    "values = [float(x) for x in user_input.split()]\n",
    "\n",
    "n = 2\n",
    "\n",
    "if len(values)<2*n:\n",
    "    print(\"Error: You need to enter at least\", 2*n, \"values\")\n",
    "else:\n",
    "    try:\n",
    "        filtered_values = remove_extremes(values, n)\n",
    "        print(\"List with outliers removed: \", filtered_values)\n",
    "        print(\"Original list: \", values)\n",
    "    except ValuesError as e:\n",
    "        print(\"Error: \", e)"
   ]
  }
 ],
 "metadata": {
  "kernelspec": {
   "display_name": "Python 3 (ipykernel)",
   "language": "python",
   "name": "python3"
  },
  "language_info": {
   "codemirror_mode": {
    "name": "ipython",
    "version": 3
   },
   "file_extension": ".py",
   "mimetype": "text/x-python",
   "name": "python",
   "nbconvert_exporter": "python",
   "pygments_lexer": "ipython3",
   "version": "3.12.5"
  }
 },
 "nbformat": 4,
 "nbformat_minor": 5
}
