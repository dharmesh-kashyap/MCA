{
 "cells": [
  {
   "cell_type": "code",
   "execution_count": 64,
   "id": "a4868bfd-56b3-4562-8289-39b41560769c",
   "metadata": {},
   "outputs": [
    {
     "name": "stdout",
     "output_type": "stream",
     "text": [
      "weather:[2 2 0 1 1 1 0 2 2 1 2 0 0 1]\n",
      "temp:[1 1 1 2 0 0 0 2 0 2 2 2 1 2]\n",
      "play:[0 0 1 1 1 0 1 0 1 1 1 1 1 0]\n",
      "features[(2, 1), (2, 1), (0, 1), (1, 2), (1, 0), (1, 0), (0, 0), (2, 2), (2, 0), (1, 2), (2, 2), (0, 2), (0, 1), (1, 2)]\n",
      "\n",
      "\n",
      "[1]\n"
     ]
    }
   ],
   "source": [
    "import pandas as pd\n",
    "import numpy as np\n",
    "import matplotlib.pyplot as plt\n",
    "import scipy.stats as stats\n",
    "\n",
    "\n",
    "df = pd.read_csv('knnWeather.csv')\n",
    "weather = df['weather'].tolist()\n",
    "temp = df['temp'].tolist()\n",
    "play=df['play'].tolist()\n",
    "#df.columns will return columns names, Iterate through these instead of writings\n",
    "#separate lines \n",
    "#print(weather,temp,play)\n",
    "\n",
    "from sklearn import preprocessing\n",
    "\n",
    "le = preprocessing.LabelEncoder()\n",
    "weather_encoded = le.fit_transform(weather)\n",
    "temp_encoded = le.fit_transform(temp)\n",
    "\n",
    "features = list(zip(weather_encoded,temp_encoded))\n",
    "label = le.fit_transform(play)\n",
    "\n",
    "print(f\"weather:{weather_encoded}\\ntemp:{temp_encoded}\\nplay:{label}\\nfeatures{features}\")\n",
    "\n",
    "\n",
    "from sklearn.neighbors import KNeighborsClassifier\n",
    "\n",
    "model = KNeighborsClassifier(n_neighbors=3)\n",
    "model.fit(features,label)\n",
    "\n",
    "predicted=model.predict([[0,2]])\n",
    "\n",
    "print(f\"\\n\\n{predicted}\")\n",
    "\n"
   ]
  }
 ],
 "metadata": {
  "kernelspec": {
   "display_name": "Python 3 (ipykernel)",
   "language": "python",
   "name": "python3"
  },
  "language_info": {
   "codemirror_mode": {
    "name": "ipython",
    "version": 3
   },
   "file_extension": ".py",
   "mimetype": "text/x-python",
   "name": "python",
   "nbconvert_exporter": "python",
   "pygments_lexer": "ipython3",
   "version": "3.9.13"
  }
 },
 "nbformat": 4,
 "nbformat_minor": 5
}
