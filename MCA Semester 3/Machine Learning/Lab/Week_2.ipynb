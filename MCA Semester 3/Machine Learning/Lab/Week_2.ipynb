{
 "cells": [
  {
   "cell_type": "raw",
   "id": "cace27bf-cf77-4ab5-b733-2517acf0e30a",
   "metadata": {},
   "source": [
    "1) Generate numerical data using Range and Arange functions. "
   ]
  },
  {
   "cell_type": "code",
   "execution_count": 1,
   "id": "005fd375-2b63-4304-91d5-b2a367b028ce",
   "metadata": {},
   "outputs": [
    {
     "name": "stdout",
     "output_type": "stream",
     "text": [
      "Data using range: [0, 1, 2, 3, 4, 5, 6, 7, 8, 9]\n"
     ]
    }
   ],
   "source": [
    "data_range = list(range(10))\n",
    "print(\"Data using range:\", data_range)"
   ]
  },
  {
   "cell_type": "code",
   "execution_count": null,
   "id": "8b9dab5c-91cc-45df-9537-7bfaf430e09c",
   "metadata": {},
   "outputs": [],
   "source": []
  }
 ],
 "metadata": {
  "kernelspec": {
   "display_name": "Python 3 (ipykernel)",
   "language": "python",
   "name": "python3"
  },
  "language_info": {
   "codemirror_mode": {
    "name": "ipython",
    "version": 3
   },
   "file_extension": ".py",
   "mimetype": "text/x-python",
   "name": "python",
   "nbconvert_exporter": "python",
   "pygments_lexer": "ipython3",
   "version": "3.11.4"
  }
 },
 "nbformat": 4,
 "nbformat_minor": 5
}
