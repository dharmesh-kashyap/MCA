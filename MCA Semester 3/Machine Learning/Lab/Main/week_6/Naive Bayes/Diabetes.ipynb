{
 "cells": [
  {
   "cell_type": "code",
   "execution_count": 4,
   "id": "0214f601-88d3-4de9-b42a-4dcce969f477",
   "metadata": {},
   "outputs": [],
   "source": [
    "import pandas as pd\n",
    "import numpy as np\n",
    "\n",
    "from sklearn.naive_bayes import GaussianNB\n",
    "from sklearn.model_selection import train_test_split, StratifiedShuffleSplit\n",
    "from sklearn.metrics import accuracy_score, confusion_matrix, classification_report\n",
    "from sklearn.preprocessing import StandardScaler\n",
    "\n",
    "from tabulate import tabulate\n",
    "\n",
    "import warnings\n",
    "def warn(*args, **kwargs):\n",
    "    pass\n",
    "warnings.warn = warn"
   ]
  },
  {
   "cell_type": "code",
   "execution_count": 5,
   "id": "5abf08b6-23d2-4a49-818c-71fb0db1c28d",
   "metadata": {},
   "outputs": [
    {
     "data": {
      "text/html": [
       "<div>\n",
       "<style scoped>\n",
       "    .dataframe tbody tr th:only-of-type {\n",
       "        vertical-align: middle;\n",
       "    }\n",
       "\n",
       "    .dataframe tbody tr th {\n",
       "        vertical-align: top;\n",
       "    }\n",
       "\n",
       "    .dataframe thead th {\n",
       "        text-align: right;\n",
       "    }\n",
       "</style>\n",
       "<table border=\"1\" class=\"dataframe\">\n",
       "  <thead>\n",
       "    <tr style=\"text-align: right;\">\n",
       "      <th></th>\n",
       "      <th>Pregnancies</th>\n",
       "      <th>Glucose</th>\n",
       "      <th>BloodPressure</th>\n",
       "      <th>SkinThickness</th>\n",
       "      <th>Insulin</th>\n",
       "      <th>BMI</th>\n",
       "      <th>DiabetesPedigreeFunction</th>\n",
       "      <th>Age</th>\n",
       "      <th>Outcome</th>\n",
       "    </tr>\n",
       "  </thead>\n",
       "  <tbody>\n",
       "    <tr>\n",
       "      <th>0</th>\n",
       "      <td>6</td>\n",
       "      <td>148</td>\n",
       "      <td>72</td>\n",
       "      <td>35</td>\n",
       "      <td>0</td>\n",
       "      <td>33.6</td>\n",
       "      <td>0.627</td>\n",
       "      <td>50</td>\n",
       "      <td>1</td>\n",
       "    </tr>\n",
       "    <tr>\n",
       "      <th>1</th>\n",
       "      <td>1</td>\n",
       "      <td>85</td>\n",
       "      <td>66</td>\n",
       "      <td>29</td>\n",
       "      <td>0</td>\n",
       "      <td>26.6</td>\n",
       "      <td>0.351</td>\n",
       "      <td>31</td>\n",
       "      <td>0</td>\n",
       "    </tr>\n",
       "    <tr>\n",
       "      <th>2</th>\n",
       "      <td>8</td>\n",
       "      <td>183</td>\n",
       "      <td>64</td>\n",
       "      <td>0</td>\n",
       "      <td>0</td>\n",
       "      <td>23.3</td>\n",
       "      <td>0.672</td>\n",
       "      <td>32</td>\n",
       "      <td>1</td>\n",
       "    </tr>\n",
       "    <tr>\n",
       "      <th>3</th>\n",
       "      <td>1</td>\n",
       "      <td>89</td>\n",
       "      <td>66</td>\n",
       "      <td>23</td>\n",
       "      <td>94</td>\n",
       "      <td>28.1</td>\n",
       "      <td>0.167</td>\n",
       "      <td>21</td>\n",
       "      <td>0</td>\n",
       "    </tr>\n",
       "    <tr>\n",
       "      <th>4</th>\n",
       "      <td>0</td>\n",
       "      <td>137</td>\n",
       "      <td>40</td>\n",
       "      <td>35</td>\n",
       "      <td>168</td>\n",
       "      <td>43.1</td>\n",
       "      <td>2.288</td>\n",
       "      <td>33</td>\n",
       "      <td>1</td>\n",
       "    </tr>\n",
       "  </tbody>\n",
       "</table>\n",
       "</div>"
      ],
      "text/plain": [
       "   Pregnancies  Glucose  BloodPressure  SkinThickness  Insulin   BMI  \\\n",
       "0            6      148             72             35        0  33.6   \n",
       "1            1       85             66             29        0  26.6   \n",
       "2            8      183             64              0        0  23.3   \n",
       "3            1       89             66             23       94  28.1   \n",
       "4            0      137             40             35      168  43.1   \n",
       "\n",
       "   DiabetesPedigreeFunction  Age  Outcome  \n",
       "0                     0.627   50        1  \n",
       "1                     0.351   31        0  \n",
       "2                     0.672   32        1  \n",
       "3                     0.167   21        0  \n",
       "4                     2.288   33        1  "
      ]
     },
     "execution_count": 5,
     "metadata": {},
     "output_type": "execute_result"
    }
   ],
   "source": [
    "df = pd.read_csv(\"../diabetes.csv\")\n",
    "df.head()"
   ]
  },
  {
   "cell_type": "code",
   "execution_count": 6,
   "id": "5d2aec09-b242-48c3-9ed8-f6b3765deb5a",
   "metadata": {},
   "outputs": [
    {
     "name": "stdout",
     "output_type": "stream",
     "text": [
      "<class 'pandas.core.frame.DataFrame'>\n",
      "RangeIndex: 768 entries, 0 to 767\n",
      "Data columns (total 9 columns):\n",
      " #   Column                    Non-Null Count  Dtype  \n",
      "---  ------                    --------------  -----  \n",
      " 0   Pregnancies               768 non-null    int64  \n",
      " 1   Glucose                   768 non-null    int64  \n",
      " 2   BloodPressure             768 non-null    int64  \n",
      " 3   SkinThickness             768 non-null    int64  \n",
      " 4   Insulin                   768 non-null    int64  \n",
      " 5   BMI                       768 non-null    float64\n",
      " 6   DiabetesPedigreeFunction  768 non-null    float64\n",
      " 7   Age                       768 non-null    int64  \n",
      " 8   Outcome                   768 non-null    int64  \n",
      "dtypes: float64(2), int64(7)\n",
      "memory usage: 54.1 KB\n"
     ]
    }
   ],
   "source": [
    "df.info()"
   ]
  },
  {
   "cell_type": "code",
   "execution_count": 8,
   "id": "3da3b97f-c246-48e9-901f-96e31104637e",
   "metadata": {},
   "outputs": [
    {
     "data": {
      "text/plain": [
       "Outcome\n",
       "0    500\n",
       "1    268\n",
       "Name: count, dtype: int64"
      ]
     },
     "execution_count": 8,
     "metadata": {},
     "output_type": "execute_result"
    }
   ],
   "source": [
    "df.Outcome.value_counts()"
   ]
  },
  {
   "cell_type": "markdown",
   "id": "0fe4afb0-4423-4aa7-a7ea-1e41d60a89e6",
   "metadata": {},
   "source": [
    "The data is poorly balanced, so I am going to use stratified shuffle split for having equal distribution of classes in the train and test datasets. \n",
    "\n",
    "But before that, I'll be scaling all the features down to standard scale format to have consistency"
   ]
  },
  {
   "cell_type": "code",
   "execution_count": 14,
   "id": "9a96f62d-1efe-409a-a355-a594589878db",
   "metadata": {},
   "outputs": [],
   "source": [
    "scaler = StandardScaler()\n",
    "X = df.drop('Outcome', axis=1)\n",
    "y = df.Outcome\n",
    "\n",
    "X_scaled = scaler.fit_transform(X)\n",
    "X_scaled = pd.DataFrame(X_scaled)"
   ]
  },
  {
   "cell_type": "code",
   "execution_count": 15,
   "id": "f63ecd0f-720b-4413-ac94-ccac2051ffeb",
   "metadata": {},
   "outputs": [],
   "source": [
    "strat_shuf_split = StratifiedShuffleSplit(n_splits=1, test_size=.3, random_state=42)\n",
    "train_idx, test_idx = next(strat_shuf_split.split(X_scaled, y))"
   ]
  },
  {
   "cell_type": "code",
   "execution_count": 17,
   "id": "c513d29c-3c6b-4162-b9d9-7dbff507d078",
   "metadata": {},
   "outputs": [],
   "source": [
    "X_train = X_scaled.iloc[train_idx]\n",
    "y_train = y.iloc[train_idx]\n",
    "\n",
    "X_test = X_scaled.iloc[test_idx]\n",
    "y_test = y.iloc[test_idx]"
   ]
  },
  {
   "cell_type": "code",
   "execution_count": 24,
   "id": "0ec0ccb0-e0d1-4f7e-8e50-30633a67055c",
   "metadata": {},
   "outputs": [
    {
     "data": {
      "text/plain": [
       "Outcome\n",
       "0    0.651769\n",
       "1    0.348231\n",
       "Name: proportion, dtype: float64"
      ]
     },
     "execution_count": 24,
     "metadata": {},
     "output_type": "execute_result"
    }
   ],
   "source": [
    "y_train.value_counts(normalize=True)"
   ]
  },
  {
   "cell_type": "code",
   "execution_count": 25,
   "id": "ebee3bf5-e7a3-4b36-963a-1f01a255f562",
   "metadata": {},
   "outputs": [
    {
     "data": {
      "text/plain": [
       "Outcome\n",
       "0    0.649351\n",
       "1    0.350649\n",
       "Name: proportion, dtype: float64"
      ]
     },
     "execution_count": 25,
     "metadata": {},
     "output_type": "execute_result"
    }
   ],
   "source": [
    "y_test.value_counts(normalize=True)"
   ]
  },
  {
   "cell_type": "code",
   "execution_count": 26,
   "id": "a60eb93a-4f0d-4a60-80db-1195b70888b0",
   "metadata": {},
   "outputs": [
    {
     "name": "stdout",
     "output_type": "stream",
     "text": [
      "R2 score: 0.7445887445887446\n"
     ]
    }
   ],
   "source": [
    "nb = GaussianNB()\n",
    "\n",
    "nb.fit(X_train, y_train)\n",
    "y_pred = nb.predict(X_test)\n",
    "score = accuracy_score(y_test, y_pred)\n",
    "print(f\"R2 score: {score}\")"
   ]
  },
  {
   "cell_type": "code",
   "execution_count": 28,
   "id": "d1cbcb03-2b01-4d90-ade7-53e06fd68b50",
   "metadata": {},
   "outputs": [
    {
     "name": "stdout",
     "output_type": "stream",
     "text": [
      "+--------+-----------+----------+------------+-------------------------------------------------------+--------------------+\n",
      "|   SNo. | Train %   | Test %   |   Accuracy | Report                                                | Confusion Matrix   |\n",
      "+========+===========+==========+============+=======================================================+====================+\n",
      "|      1 | 90.0%     | 10.0%    |   0.753247 | precision    recall  f1-score   support               | [[43  7]           |\n",
      "|        |           |          |            |                                                       |  [12 15]]          |\n",
      "|        |           |          |            |            0       0.78      0.86      0.82        50 |                    |\n",
      "|        |           |          |            |            1       0.68      0.56      0.61        27 |                    |\n",
      "|        |           |          |            |                                                       |                    |\n",
      "|        |           |          |            |     accuracy                           0.75        77 |                    |\n",
      "|        |           |          |            |    macro avg       0.73      0.71      0.72        77 |                    |\n",
      "|        |           |          |            | weighted avg       0.75      0.75      0.75        77 |                    |\n",
      "+--------+-----------+----------+------------+-------------------------------------------------------+--------------------+\n",
      "|      2 | 80.0%     | 20.0%    |   0.727273 | precision    recall  f1-score   support               | [[83 17]           |\n",
      "|        |           |          |            |                                                       |  [25 29]]          |\n",
      "|        |           |          |            |            0       0.77      0.83      0.80       100 |                    |\n",
      "|        |           |          |            |            1       0.63      0.54      0.58        54 |                    |\n",
      "|        |           |          |            |                                                       |                    |\n",
      "|        |           |          |            |     accuracy                           0.73       154 |                    |\n",
      "|        |           |          |            |    macro avg       0.70      0.68      0.69       154 |                    |\n",
      "|        |           |          |            | weighted avg       0.72      0.73      0.72       154 |                    |\n",
      "+--------+-----------+----------+------------+-------------------------------------------------------+--------------------+\n",
      "|      3 | 70.0%     | 30.0%    |   0.722944 | precision    recall  f1-score   support               | [[121  29]         |\n",
      "|        |           |          |            |                                                       |  [ 35  46]]        |\n",
      "|        |           |          |            |            0       0.78      0.81      0.79       150 |                    |\n",
      "|        |           |          |            |            1       0.61      0.57      0.59        81 |                    |\n",
      "|        |           |          |            |                                                       |                    |\n",
      "|        |           |          |            |     accuracy                           0.72       231 |                    |\n",
      "|        |           |          |            |    macro avg       0.69      0.69      0.69       231 |                    |\n",
      "|        |           |          |            | weighted avg       0.72      0.72      0.72       231 |                    |\n",
      "+--------+-----------+----------+------------+-------------------------------------------------------+--------------------+\n",
      "|      4 | 60.0%     | 40.0%    |   0.737013 | precision    recall  f1-score   support               | [[168  33]         |\n",
      "|        |           |          |            |                                                       |  [ 48  59]]        |\n",
      "|        |           |          |            |            0       0.78      0.84      0.81       201 |                    |\n",
      "|        |           |          |            |            1       0.64      0.55      0.59       107 |                    |\n",
      "|        |           |          |            |                                                       |                    |\n",
      "|        |           |          |            |     accuracy                           0.74       308 |                    |\n",
      "|        |           |          |            |    macro avg       0.71      0.69      0.70       308 |                    |\n",
      "|        |           |          |            | weighted avg       0.73      0.74      0.73       308 |                    |\n",
      "+--------+-----------+----------+------------+-------------------------------------------------------+--------------------+\n",
      "|      5 | 50.0%     | 50.0%    |   0.729167 | precision    recall  f1-score   support               | [[211  39]         |\n",
      "|        |           |          |            |                                                       |  [ 65  69]]        |\n",
      "|        |           |          |            |            0       0.76      0.84      0.80       250 |                    |\n",
      "|        |           |          |            |            1       0.64      0.51      0.57       134 |                    |\n",
      "|        |           |          |            |                                                       |                    |\n",
      "|        |           |          |            |     accuracy                           0.73       384 |                    |\n",
      "|        |           |          |            |    macro avg       0.70      0.68      0.69       384 |                    |\n",
      "|        |           |          |            | weighted avg       0.72      0.73      0.72       384 |                    |\n",
      "+--------+-----------+----------+------------+-------------------------------------------------------+--------------------+\n",
      "|      6 | 40.0%     | 60.0%    |   0.733189 | precision    recall  f1-score   support               | [[253  47]         |\n",
      "|        |           |          |            |                                                       |  [ 76  85]]        |\n",
      "|        |           |          |            |            0       0.77      0.84      0.80       300 |                    |\n",
      "|        |           |          |            |            1       0.64      0.53      0.58       161 |                    |\n",
      "|        |           |          |            |                                                       |                    |\n",
      "|        |           |          |            |     accuracy                           0.73       461 |                    |\n",
      "|        |           |          |            |    macro avg       0.71      0.69      0.69       461 |                    |\n",
      "|        |           |          |            | weighted avg       0.73      0.73      0.73       461 |                    |\n",
      "+--------+-----------+----------+------------+-------------------------------------------------------+--------------------+\n",
      "|      7 | 31.0%     | 70.0%    |   0.739777 | precision    recall  f1-score   support               | [[301  49]         |\n",
      "|        |           |          |            |                                                       |  [ 91  97]]        |\n",
      "|        |           |          |            |            0       0.77      0.86      0.81       350 |                    |\n",
      "|        |           |          |            |            1       0.66      0.52      0.58       188 |                    |\n",
      "|        |           |          |            |                                                       |                    |\n",
      "|        |           |          |            |     accuracy                           0.74       538 |                    |\n",
      "|        |           |          |            |    macro avg       0.72      0.69      0.70       538 |                    |\n",
      "|        |           |          |            | weighted avg       0.73      0.74      0.73       538 |                    |\n",
      "+--------+-----------+----------+------------+-------------------------------------------------------+--------------------+\n",
      "|      8 | 20.0%     | 80.0%    |   0.736585 | precision    recall  f1-score   support               | [[341  59]         |\n",
      "|        |           |          |            |                                                       |  [103 112]]        |\n",
      "|        |           |          |            |            0       0.77      0.85      0.81       400 |                    |\n",
      "|        |           |          |            |            1       0.65      0.52      0.58       215 |                    |\n",
      "|        |           |          |            |                                                       |                    |\n",
      "|        |           |          |            |     accuracy                           0.74       615 |                    |\n",
      "|        |           |          |            |    macro avg       0.71      0.69      0.69       615 |                    |\n",
      "|        |           |          |            | weighted avg       0.73      0.74      0.73       615 |                    |\n",
      "+--------+-----------+----------+------------+-------------------------------------------------------+--------------------+\n",
      "|      9 | 10.0%     | 90.0%    |   0.725434 | precision    recall  f1-score   support               | [[381  70]         |\n",
      "|        |           |          |            |                                                       |  [120 121]]        |\n",
      "|        |           |          |            |            0       0.76      0.84      0.80       451 |                    |\n",
      "|        |           |          |            |            1       0.63      0.50      0.56       241 |                    |\n",
      "|        |           |          |            |                                                       |                    |\n",
      "|        |           |          |            |     accuracy                           0.73       692 |                    |\n",
      "|        |           |          |            |    macro avg       0.70      0.67      0.68       692 |                    |\n",
      "|        |           |          |            | weighted avg       0.72      0.73      0.72       692 |                    |\n",
      "+--------+-----------+----------+------------+-------------------------------------------------------+--------------------+\n"
     ]
    }
   ],
   "source": [
    "splits = [i/10 for i in range(1, 10)]\n",
    "scores = []\n",
    "results = []\n",
    "nb = GaussianNB()\n",
    "\n",
    "for i, split in enumerate(splits):\n",
    "    strat_shuf_split = StratifiedShuffleSplit(n_splits=1, test_size=split, random_state=24)\n",
    "    train_idx, test_idx = next(strat_shuf_split.split(X_scaled, y))\n",
    "    \n",
    "    X_train = X.iloc[train_idx]\n",
    "    y_train = y.iloc[train_idx]\n",
    "\n",
    "    X_test = X.iloc[test_idx]\n",
    "    y_test = y.iloc[test_idx]\n",
    "\n",
    "    nb.fit(X_train, y_train)\n",
    "    y_pred = nb.predict(X_test)\n",
    "\n",
    "    score = accuracy_score(y_test, y_pred)\n",
    "    cm = confusion_matrix(y_test, y_pred)\n",
    "    cr = classification_report(y_test, y_pred)\n",
    "\n",
    "    results.append([i+1, str(f\"{np.ceil((1-split)*100)}%\"), str(f\"{np.ceil(split*100)}%\"), score])\n",
    "    scores.append([i+1, str(f\"{np.ceil((1-split)*100)}%\"), str(f\"{np.ceil(split*100)}%\"), score, cr, cm])\n",
    "\n",
    "headers = ['SNo.', 'Train %', 'Test %', 'Accuracy', 'Report', 'Confusion Matrix']\n",
    "new_headers = ['SNo.', 'Train %', 'Test %', 'Accuracy']\n",
    "print(tabulate(scores, headers=headers, tablefmt='grid'))"
   ]
  },
  {
   "cell_type": "code",
   "execution_count": 30,
   "id": "a7b34fe7-efab-4f36-8275-315f34502487",
   "metadata": {},
   "outputs": [],
   "source": [
    "import csv\n",
    "with open(\"diabetes_result.csv\", 'w', newline='') as file:\n",
    "    csvWriter = csv.writer(file)\n",
    "    csvWriter.writerow(new_headers)\n",
    "    csvWriter.writerows(results)"
   ]
  },
  {
   "cell_type": "code",
   "execution_count": null,
   "id": "242feea1-ce37-461a-973b-14400d05cace",
   "metadata": {},
   "outputs": [],
   "source": []
  }
 ],
 "metadata": {
  "kernelspec": {
   "display_name": "Python 3 (ipykernel)",
   "language": "python",
   "name": "python3"
  },
  "language_info": {
   "codemirror_mode": {
    "name": "ipython",
    "version": 3
   },
   "file_extension": ".py",
   "mimetype": "text/x-python",
   "name": "python",
   "nbconvert_exporter": "python",
   "pygments_lexer": "ipython3",
   "version": "3.12.3"
  }
 },
 "nbformat": 4,
 "nbformat_minor": 5
}
