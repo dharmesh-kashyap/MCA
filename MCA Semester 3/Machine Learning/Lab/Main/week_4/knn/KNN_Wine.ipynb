{
 "cells": [
  {
   "cell_type": "code",
   "execution_count": 104,
   "id": "aaf4ace5",
   "metadata": {},
   "outputs": [],
   "source": [
    "import pandas as pd\n",
    "import numpy as np\n",
    "from sklearn import datasets\n",
    "from sklearn import preprocessing\n",
    "from sklearn.neighbors import KNeighborsClassifier\n",
    "from sklearn.model_selection import train_test_split\n",
    "from sklearn.metrics import classification_report, confusion_matrix"
   ]
  },
  {
   "cell_type": "code",
   "execution_count": 62,
   "id": "e0cc6403",
   "metadata": {},
   "outputs": [],
   "source": [
    "wine = datasets.load_wine()"
   ]
  },
  {
   "cell_type": "code",
   "execution_count": 63,
   "id": "e79101b4",
   "metadata": {},
   "outputs": [
    {
     "name": "stdout",
     "output_type": "stream",
     "text": [
      "['alcohol', 'malic_acid', 'ash', 'alcalinity_of_ash', 'magnesium', 'total_phenols', 'flavanoids', 'nonflavanoid_phenols', 'proanthocyanins', 'color_intensity', 'hue', 'od280/od315_of_diluted_wines', 'proline']\n"
     ]
    }
   ],
   "source": [
    "print(wine.feature_names)"
   ]
  },
  {
   "cell_type": "code",
   "execution_count": 64,
   "id": "f830554c",
   "metadata": {},
   "outputs": [
    {
     "name": "stdout",
     "output_type": "stream",
     "text": [
      "[[1.423e+01 1.710e+00 2.430e+00 1.560e+01 1.270e+02 2.800e+00 3.060e+00\n",
      "  2.800e-01 2.290e+00 5.640e+00 1.040e+00 3.920e+00 1.065e+03]\n",
      " [1.320e+01 1.780e+00 2.140e+00 1.120e+01 1.000e+02 2.650e+00 2.760e+00\n",
      "  2.600e-01 1.280e+00 4.380e+00 1.050e+00 3.400e+00 1.050e+03]\n",
      " [1.316e+01 2.360e+00 2.670e+00 1.860e+01 1.010e+02 2.800e+00 3.240e+00\n",
      "  3.000e-01 2.810e+00 5.680e+00 1.030e+00 3.170e+00 1.185e+03]\n",
      " [1.437e+01 1.950e+00 2.500e+00 1.680e+01 1.130e+02 3.850e+00 3.490e+00\n",
      "  2.400e-01 2.180e+00 7.800e+00 8.600e-01 3.450e+00 1.480e+03]\n",
      " [1.324e+01 2.590e+00 2.870e+00 2.100e+01 1.180e+02 2.800e+00 2.690e+00\n",
      "  3.900e-01 1.820e+00 4.320e+00 1.040e+00 2.930e+00 7.350e+02]]\n"
     ]
    }
   ],
   "source": [
    "print(wine.data[0:5])"
   ]
  },
  {
   "cell_type": "code",
   "execution_count": 65,
   "id": "e890830a",
   "metadata": {
    "scrolled": true
   },
   "outputs": [
    {
     "name": "stdout",
     "output_type": "stream",
     "text": [
      "[0 0 0 0 0 0 0 0 0 0 0 0 0 0 0 0 0 0 0 0 0 0 0 0 0 0 0 0 0 0 0 0 0 0 0 0 0\n",
      " 0 0 0 0 0 0 0 0 0 0 0 0 0 0 0 0 0 0 0 0 0 0 1 1 1 1 1 1 1 1 1 1 1 1 1 1 1\n",
      " 1 1 1 1 1 1 1 1 1 1 1 1 1 1 1 1 1 1 1 1 1 1 1 1 1 1 1 1 1 1 1 1 1 1 1 1 1\n",
      " 1 1 1 1 1 1 1 1 1 1 1 1 1 1 1 1 1 1 1 2 2 2 2 2 2 2 2 2 2 2 2 2 2 2 2 2 2\n",
      " 2 2 2 2 2 2 2 2 2 2 2 2 2 2 2 2 2 2 2 2 2 2 2 2 2 2 2 2 2 2]\n"
     ]
    }
   ],
   "source": [
    "print(wine.target)"
   ]
  },
  {
   "cell_type": "code",
   "execution_count": 66,
   "id": "3dbad19b",
   "metadata": {},
   "outputs": [
    {
     "name": "stdout",
     "output_type": "stream",
     "text": [
      "178\n"
     ]
    }
   ],
   "source": [
    "print(len(wine.target))"
   ]
  },
  {
   "cell_type": "code",
   "execution_count": 67,
   "id": "2988b248",
   "metadata": {},
   "outputs": [
    {
     "name": "stdout",
     "output_type": "stream",
     "text": [
      "(178, 13)\n"
     ]
    }
   ],
   "source": [
    "print(wine.data.shape)"
   ]
  },
  {
   "cell_type": "code",
   "execution_count": 68,
   "id": "503cd86f",
   "metadata": {},
   "outputs": [],
   "source": [
    "indices = np.arange(len(wine.data))"
   ]
  },
  {
   "cell_type": "code",
   "execution_count": 73,
   "id": "8356a9af",
   "metadata": {},
   "outputs": [
    {
     "name": "stdout",
     "output_type": "stream",
     "text": [
      "[0 1 2 2 1 2 2 0 1 2 1 1 2 1 0 1 1 1 0 0 1 1 2 2 1 1 1 2 2 0 2 1 1 1 1 1 0\n",
      " 0 1 0 2 0 2 0 0 1 0 1 1 0 2 1 0 1 1 1 2 0 2 2 0 0 1 2 0 0 1 1 0 0 0 2 1 0\n",
      " 1 2 0 1 2 2 0 0 2 0 2 1 0 0 1 0 2 1 2 0 2 2 2 0 1 1 1 1 2 2 1 1 0 1 2 2 0\n",
      " 0 2 1 1 1 0 0 0 1 1 1 0 2]\n"
     ]
    }
   ],
   "source": [
    "x_train, x_test, y_train, y_test,train_indices, test_indices = train_test_split(wine.data, wine.target,indices, test_size=0.3, random_state=0)\n",
    "print(y_train)"
   ]
  },
  {
   "cell_type": "code",
   "execution_count": 74,
   "id": "f726217e",
   "metadata": {},
   "outputs": [
    {
     "name": "stdout",
     "output_type": "stream",
     "text": [
      "train_data_indices:  [ 22 108 175 145  71 162 156  27  83 134  97 118 163  62   2  59  95  96\n",
      "  43  10 109  73 171 159 110 125 116 166 170  50 155  89  64 122 124  69\n",
      "  49  48  85  13 136  23 165  20  15  78  52 100  76   3 176 107   6  68\n",
      "  75  84 130  12 137 152  14   0  91 153  46  11 119 102  35  57  41 173\n",
      "  65   1 120 143  42 105 132 154  17  38 133  53 139 128  34  28 114  31\n",
      " 149 127 157  32 142 150 147  29  99  82  79 115 148 177  72  77  25  81\n",
      " 167 169  39  58 140  88  70  87  36  21   9 103  67 117  47 172]\n"
     ]
    }
   ],
   "source": [
    "print(\"train_data_indices: \",train_indices)"
   ]
  },
  {
   "cell_type": "code",
   "execution_count": 75,
   "id": "467c645b",
   "metadata": {},
   "outputs": [
    {
     "name": "stdout",
     "output_type": "stream",
     "text": [
      "test_data_indices:  [ 54 151  63  55 123 121   7 160 106  90 141 146   5  98 168  80  33  18\n",
      "  61  51  66  37   4 104  60 111 126  86 112 164  26  56 129  45   8  44\n",
      " 161  92  94 174  24  30  93 101 113  19 135  74 144  16 131 138  40 158]\n"
     ]
    }
   ],
   "source": [
    "print(\"test_data_indices: \",test_indices)"
   ]
  },
  {
   "cell_type": "code",
   "execution_count": 76,
   "id": "661b07db",
   "metadata": {},
   "outputs": [
    {
     "name": "stdout",
     "output_type": "stream",
     "text": [
      "[2 1 1 2 0 0 1 1 1 0 2 1 2 0 2 2 0 2 0 1 2 2 1 2 2 0 1 2 1 1 2 1 0 1 1 1 0\n",
      " 0 1 1 2 2 1 1 1 2 2 0 2 1 1 1 1 1 0 0 1 0 2 0 2 0 0 1 0 1 1 0 2 1 0 1 1 1\n",
      " 2 0 2 2 0 0 1 2 0 0 1 1 0 0 0 2 1 0 1 2 0 1 2 2 0 0 2 0 2 1 0 0 1 0 2 1 2\n",
      " 0 2 2 2 0 1 1 1 1 2 2 1 1 0 1 2 2 0 0 2 1 1 1 0 0 0 1 1 1 0 2]\n"
     ]
    }
   ],
   "source": [
    "x_train, x_test, y_train, y_test, train_indices, test_indices = train_test_split(wine.data, wine.target,indices, test_size=0.2, random_state=0)\n",
    "print(y_train)"
   ]
  },
  {
   "cell_type": "code",
   "execution_count": 77,
   "id": "92dfd6f8",
   "metadata": {},
   "outputs": [
    {
     "name": "stdout",
     "output_type": "stream",
     "text": [
      "train_data_indices:  [161  92  94 174  24  30  93 101 113  19 135  74 144  16 131 138  40 158\n",
      "  22 108 175 145  71 162 156  27  83 134  97 118 163  62   2  59  95  96\n",
      "  43  10 109  73 171 159 110 125 116 166 170  50 155  89  64 122 124  69\n",
      "  49  48  85  13 136  23 165  20  15  78  52 100  76   3 176 107   6  68\n",
      "  75  84 130  12 137 152  14   0  91 153  46  11 119 102  35  57  41 173\n",
      "  65   1 120 143  42 105 132 154  17  38 133  53 139 128  34  28 114  31\n",
      " 149 127 157  32 142 150 147  29  99  82  79 115 148 177  72  77  25  81\n",
      " 167 169  39  58 140  88  70  87  36  21   9 103  67 117  47 172]\n"
     ]
    }
   ],
   "source": [
    "print(\"train_data_indices: \",train_indices)"
   ]
  },
  {
   "cell_type": "code",
   "execution_count": 78,
   "id": "aeacb503",
   "metadata": {},
   "outputs": [
    {
     "name": "stdout",
     "output_type": "stream",
     "text": [
      "test_data_indices:  [ 54 151  63  55 123 121   7 160 106  90 141 146   5  98 168  80  33  18\n",
      "  61  51  66  37   4 104  60 111 126  86 112 164  26  56 129  45   8  44]\n"
     ]
    }
   ],
   "source": [
    "print(\"test_data_indices: \",test_indices)"
   ]
  },
  {
   "cell_type": "code",
   "execution_count": 79,
   "id": "5ee19fc6",
   "metadata": {},
   "outputs": [
    {
     "name": "stdout",
     "output_type": "stream",
     "text": [
      "[1 2 2 0 1 2 1 2 2 0 2 0 2 1 1 0 0 2 1 1 0 2 2 1 1 0 2 0 1 2 2 2 1 2 2 0 0\n",
      " 0 1 1 2 1 2 1 2 1 1 1 0 1 2 1 1 1 2 1 0 1 0 0 2 1 1 1 0 1 0 0 0 1 0 1 0 0\n",
      " 2 1 1 1 1 1 1 2 2 0 0 2 2 0 0 1 2 1 2 0 1 1 1 2 0 0 0 1 0 1 0 1 0 1 1 2 0\n",
      " 1 0 2 1 2 0 1 1 0 0 1 0 2]\n"
     ]
    }
   ],
   "source": [
    "x_train, x_test, y_train, y_test, train_indices, test_indices = train_test_split(wine.data, wine.target,indices, test_size=0.3, random_state=2)\n",
    "print(y_train)"
   ]
  },
  {
   "cell_type": "code",
   "execution_count": 80,
   "id": "c37ecb5c",
   "metadata": {},
   "outputs": [
    {
     "name": "stdout",
     "output_type": "stream",
     "text": [
      "train_data_indices:  [ 99 131 159  57  71 170 118 141 147  11 167  36 152 115  62   0  27 138\n",
      " 111  98  20 139 137 126  77  30 135  17  59 160 146 140 108 143 155  21\n",
      "  55  16  91 100 175  74 142 128 174  87  90  84  18  97 134 125  61  81\n",
      " 145  68   1  82  56  19 161  86  70 101   9  60  34  40  10  76   8 114\n",
      "  26  32 173  96  83 110 105  73 117 176 136  39  49 165 132  50  52  80\n",
      " 164 121 177  46  88  69  67 169  58  33  38 103  51 107   4 102  37 116\n",
      " 124 148  31  63  47 172  95 162   7 104  75  43  22  72  15 168]\n"
     ]
    }
   ],
   "source": [
    "print(\"train_data_indices: \",train_indices)"
   ]
  },
  {
   "cell_type": "code",
   "execution_count": 81,
   "id": "a69e9902",
   "metadata": {},
   "outputs": [
    {
     "name": "stdout",
     "output_type": "stream",
     "text": [
      "test_data_indices:  [ 12  23 166  25  35  13  65 171 112  48  78   3   6 158 149 122  42   2\n",
      "  29 157 130  45 106  94   5  53  93  41  54  24 133  64 151 153  28 113\n",
      " 154 120  89  92 156 144  79  14 163 119 129  44 150  66 123 127 109  85]\n"
     ]
    }
   ],
   "source": [
    "print(\"test_data_indices: \",test_indices)"
   ]
  },
  {
   "cell_type": "code",
   "execution_count": 82,
   "id": "f3201574",
   "metadata": {},
   "outputs": [
    {
     "name": "stdout",
     "output_type": "stream",
     "text": [
      "[1 1 1 1 0 2 0 1 0 0 2 2 2 1 2 2 1 0 0 1 0 1 1 0 2 1 1 1 1 0 0 2 2 2 0 2 1\n",
      " 0 0 0 2 1 2 2 1 1 0 2 0 2 2 0 2 1 0 0 2 0 1 1 0 1 2 1 1 0 1 0 1 1 1 1 2 1\n",
      " 2 1 1 0 1 2 1 0 2 0 2 0 1 0 1 0 0 1 1 0 0 1 2 1 1 1 1 1 1 1 0 1 2 1 0 2 1\n",
      " 2 2 1 2 2 2 1 2 0 0 2 2 1]\n"
     ]
    }
   ],
   "source": [
    "x_train, x_test, y_train, y_test, train_indices, test_indices = train_test_split(wine.data, wine.target,indices, test_size=0.3, random_state=3)\n",
    "print(y_train)"
   ]
  },
  {
   "cell_type": "code",
   "execution_count": 83,
   "id": "293e4586",
   "metadata": {},
   "outputs": [
    {
     "name": "stdout",
     "output_type": "stream",
     "text": [
      "train_data_indices:  [126 101  86  87  57 165  43 103  22  17 168 143 153  63 134 175 105  45\n",
      "  35  65  50  92 118  19 145 125  68  76 120  10  11 156 157 160   9 146\n",
      " 128  29  39  56 173 122 137 140  59 108  44 155  36 139 158  52 133  61\n",
      "  48  30 144  13  95  96  55  75 135 114 121  32  80  16  91  99 100 124\n",
      " 171  74 170 117  85   1 113 172 116  18 174  54 167  28 127  49  94  20\n",
      "  37  79 123  33   7  62 177  97 110 104  69  90 129  60   2  66 150  81\n",
      "  26 142  93 148 166 119 149 138 169 107 147  21   0 131 152 106]\n"
     ]
    }
   ],
   "source": [
    "print(\"train_data_indices: \",train_indices)"
   ]
  },
  {
   "cell_type": "code",
   "execution_count": 84,
   "id": "ec50a962",
   "metadata": {},
   "outputs": [
    {
     "name": "stdout",
     "output_type": "stream",
     "text": [
      "test_data_indices:  [ 40  53  34 109 159  23  46  72  78  38  64   3  82  70  51   6  84  15\n",
      " 154 163  58 136  25 176  71 115  47  41  89  83 112   4 132  98 111 130\n",
      "  42  67  31 141   5 162  88 102  77  12  14  24 151  73   8 164  27 161]\n"
     ]
    }
   ],
   "source": [
    "print(\"test_data_indices: \",test_indices)"
   ]
  },
  {
   "cell_type": "code",
   "execution_count": 124,
   "id": "b26185d1",
   "metadata": {},
   "outputs": [
    {
     "name": "stdout",
     "output_type": "stream",
     "text": [
      "[2 0 0 2 2 0 0 1 2 0 1 0 2 0 0 0 1 0 2 2 0 2 0 0 1 1 0 0 2 1 2 2 2 2 1 2 0\n",
      " 1 0 2 0 2 2 1 2 0 0 0 1 0 0 2 0 2]\n"
     ]
    },
    {
     "name": "stderr",
     "output_type": "stream",
     "text": [
      "C:\\ProgramData\\Anaconda3\\lib\\site-packages\\sklearn\\neighbors\\_classification.py:228: FutureWarning: Unlike other reduction functions (e.g. `skew`, `kurtosis`), the default behavior of `mode` typically preserves the axis it acts along. In SciPy 1.11.0, this behavior will change: the default value of `keepdims` will become False, the `axis` over which the statistic is taken will be eliminated, and the value None will no longer be accepted. Set `keepdims` to True or False to avoid this warning.\n",
      "  mode, _ = stats.mode(_y[neigh_ind, k], axis=1)\n"
     ]
    }
   ],
   "source": [
    "model = KNeighborsClassifier(n_neighbors = 14)\n",
    "\n",
    "model.fit(x_train,y_train)\n",
    "\n",
    "predicted = model.predict(x_test)    \n",
    "\n",
    "print(predicted)"
   ]
  },
  {
   "cell_type": "code",
   "execution_count": 125,
   "id": "c2e3ea56",
   "metadata": {},
   "outputs": [
    {
     "name": "stdout",
     "output_type": "stream",
     "text": [
      "0.7407407407407407\n"
     ]
    },
    {
     "name": "stderr",
     "output_type": "stream",
     "text": [
      "C:\\ProgramData\\Anaconda3\\lib\\site-packages\\sklearn\\neighbors\\_classification.py:228: FutureWarning: Unlike other reduction functions (e.g. `skew`, `kurtosis`), the default behavior of `mode` typically preserves the axis it acts along. In SciPy 1.11.0, this behavior will change: the default value of `keepdims` will become False, the `axis` over which the statistic is taken will be eliminated, and the value None will no longer be accepted. Set `keepdims` to True or False to avoid this warning.\n",
      "  mode, _ = stats.mode(_y[neigh_ind, k], axis=1)\n"
     ]
    }
   ],
   "source": [
    "print(model.score(x_test, y_test))"
   ]
  },
  {
   "cell_type": "code",
   "execution_count": 126,
   "id": "3b53117a",
   "metadata": {},
   "outputs": [
    {
     "name": "stdout",
     "output_type": "stream",
     "text": [
      "              precision    recall  f1-score   support\n",
      "\n",
      "     class_0       0.88      0.91      0.89        23\n",
      "     class_1       0.90      0.47      0.62        19\n",
      "     class_2       0.50      0.83      0.62        12\n",
      "\n",
      "    accuracy                           0.74        54\n",
      "   macro avg       0.76      0.74      0.71        54\n",
      "weighted avg       0.80      0.74      0.74        54\n",
      "\n"
     ]
    }
   ],
   "source": [
    "m = classification_report(y_test, predicted, target_names = wine.target_names)\n",
    "print(m)"
   ]
  },
  {
   "cell_type": "code",
   "execution_count": 127,
   "id": "e9e7ec51",
   "metadata": {},
   "outputs": [
    {
     "name": "stdout",
     "output_type": "stream",
     "text": [
      "[[21  0  2]\n",
      " [ 2  9  8]\n",
      " [ 1  1 10]]\n"
     ]
    }
   ],
   "source": [
    "cm = confusion_matrix(y_test, predicted)\n",
    "print(cm)"
   ]
  },
  {
   "cell_type": "code",
   "execution_count": 31,
   "id": "6b9fc47e",
   "metadata": {},
   "outputs": [],
   "source": [
    "# le = preprocessing.LabelEncoder()\n",
    "\n",
    "\n",
    "# weather_encoded = le.fit_transform(weather)    #converting string labels into numeric values\n",
    "# temp_encoded = le.fit_transform(temp)    #converting string labels into numeric values\n",
    "# play_encoded = le.fit_transform(play)    #converting string labels into numeric values\n",
    "\n",
    "# print(weather_encoded)"
   ]
  },
  {
   "cell_type": "code",
   "execution_count": 32,
   "id": "fdac9649",
   "metadata": {},
   "outputs": [],
   "source": [
    "# print(temp_encoded)"
   ]
  },
  {
   "cell_type": "code",
   "execution_count": 33,
   "id": "1a0aa171",
   "metadata": {},
   "outputs": [],
   "source": [
    "# print(play_encoded)"
   ]
  },
  {
   "cell_type": "code",
   "execution_count": 34,
   "id": "f1f6febf",
   "metadata": {},
   "outputs": [],
   "source": [
    "# features = list(zip(weather_encoded, temp_encoded))  #Zipping 2 columns in one varieble\n",
    "# features"
   ]
  },
  {
   "cell_type": "code",
   "execution_count": null,
   "id": "5794dc7f",
   "metadata": {},
   "outputs": [],
   "source": []
  }
 ],
 "metadata": {
  "kernelspec": {
   "display_name": "Python 3 (ipykernel)",
   "language": "python",
   "name": "python3"
  },
  "language_info": {
   "codemirror_mode": {
    "name": "ipython",
    "version": 3
   },
   "file_extension": ".py",
   "mimetype": "text/x-python",
   "name": "python",
   "nbconvert_exporter": "python",
   "pygments_lexer": "ipython3",
   "version": "3.9.13"
  }
 },
 "nbformat": 4,
 "nbformat_minor": 5
}
