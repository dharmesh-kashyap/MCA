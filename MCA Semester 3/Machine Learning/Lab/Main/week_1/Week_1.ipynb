{
 "cells": [
  {
   "cell_type": "raw",
   "id": "05454c1a-7053-4dc1-ad61-a7ff3e15ad19",
   "metadata": {},
   "source": [
    "1) Create a program that reads the length and width of a farmer’s field from the user in\n",
    "feet. Display the area of the field in acres.\n",
    "Hint: There are 43,560 square feet in an acre."
   ]
  },
  {
   "cell_type": "code",
   "execution_count": 7,
   "id": "e0aab3e9-d441-4883-96b8-31b1f5664a49",
   "metadata": {},
   "outputs": [
    {
     "name": "stdin",
     "output_type": "stream",
     "text": [
      "Enter the length of the field in feet:  12000\n",
      "Enter the width of the field in feet:  12000\n"
     ]
    },
    {
     "name": "stdout",
     "output_type": "stream",
     "text": [
      "The area of the field is 3305.79 acres.\n"
     ]
    }
   ],
   "source": [
    "length = float(input(\"Enter the length of the field in feet: \"))\n",
    "width = float(input(\"Enter the width of the field in feet: \"))\n",
    "\n",
    "area_in_square_feet = length * width\n",
    "\n",
    "area_in_acres = area_in_square_feet / 43560\n",
    "\n",
    "print(f\"The area of the field is {area_in_acres:.2f} acres.\")\n"
   ]
  },
  {
   "cell_type": "raw",
   "id": "831707a5-f1c7-4952-ae75-cb0e9229c92f",
   "metadata": {},
   "source": [
    "2) Write a program that asks the user to enter the width and length of a room. Once the values have\n",
    "been read, your program should compute and display the area of the room. The length and the\n",
    "width will be entered as floating point numbers. Include units in your prompt and output message;\n",
    "either feet or meters, depending on which unit you are more comfortable working with.\n"
   ]
  },
  {
   "cell_type": "code",
   "execution_count": 4,
   "id": "de8652ff-d0a0-4a12-9899-849166fb325c",
   "metadata": {},
   "outputs": [
    {
     "name": "stdin",
     "output_type": "stream",
     "text": [
      "Enter the length of the room (in feet or meters):  12\n",
      "Enter the width of the room (in feet or meters):  12\n"
     ]
    },
    {
     "name": "stdout",
     "output_type": "stream",
     "text": [
      "The area of the room is 144.00 square units.\n"
     ]
    }
   ],
   "source": [
    "length = float(input(\"Enter the length of the room (in feet or meters): \"))\n",
    "width = float(input(\"Enter the width of the room (in feet or meters): \"))\n",
    "\n",
    "area = length * width\n",
    "\n",
    "print(f\"The area of the room is {area:.2f} square units.\")\n"
   ]
  },
  {
   "cell_type": "raw",
   "id": "6de3225b-f836-4ea0-8828-8fb84dbaf2ee",
   "metadata": {},
   "source": [
    "3) Python includes a library of functions for working with time, including a function called asctime\n",
    "in the time module. It reads the current time from the computer’s internal clock and returns it in a\n",
    "human-readable format. Write a program that displays the current time and date. Your program\n",
    "will not require any input from the user."
   ]
  },
  {
   "cell_type": "code",
   "execution_count": 3,
   "id": "e097bc12-4685-4529-a328-d38bc9e5a13c",
   "metadata": {},
   "outputs": [
    {
     "name": "stdout",
     "output_type": "stream",
     "text": [
      "The current time and date is: Sat Aug 10 16:08:36 2024\n"
     ]
    }
   ],
   "source": [
    "import time\n",
    "\n",
    "current_time = time.asctime()\n",
    "\n",
    "print(\"The current time and date is:\", current_time)\n"
   ]
  },
  {
   "cell_type": "raw",
   "id": "1f1c25d5-9812-4bca-b392-fda7f561fdd5",
   "metadata": {},
   "source": [
    "4) Create a program that reads the following10 data values (integers) and displays them in sorted\n",
    "order (from smallest to largest). Use the min and max functions to find the smallest and largest\n",
    "values. Also compute the 5 number summary for the data. Find the IQR value. Also find the\n",
    "outliers if any.\n",
    " Data: 16, 09, 14, 11, 13, 06, 18, 15, 10, 12."
   ]
  },
  {
   "cell_type": "code",
   "execution_count": 4,
   "id": "556d18e4-3b08-49c8-9c7d-1c6497e6071e",
   "metadata": {},
   "outputs": [
    {
     "name": "stdout",
     "output_type": "stream",
     "text": [
      "Sorted data: [6, 9, 10, 11, 12, 13, 14, 15, 16, 18]\n",
      "Smallest value: 6\n",
      "Largest value: 18\n",
      "5-number summary:\n",
      "  Minimum: 6\n",
      "  Q1: 10\n",
      "  Median: 13\n",
      "  Q3: 15\n",
      "  Maximum: 18\n",
      "Interquartile Range (IQR): 5\n",
      "Outliers: []\n"
     ]
    }
   ],
   "source": [
    "data = [16, 9, 14, 11, 13, 6, 18, 15, 10, 12]\n",
    "\n",
    "sorted_data = sorted(data)\n",
    "\n",
    "min_value = min(sorted_data)\n",
    "max_value = max(sorted_data)\n",
    "\n",
    "q1 = sorted_data[len(sorted_data) // 4]\n",
    "median = sorted_data[len(sorted_data) // 2]\n",
    "q3 = sorted_data[(len(sorted_data) * 3) // 4]\n",
    "\n",
    "iqr = q3 - q1\n",
    "\n",
    "lower_bound = q1 - 1.5 * iqr\n",
    "upper_bound = q3 + 1.5 * iqr\n",
    "outliers = [x for x in sorted_data if x < lower_bound or x > upper_bound]\n",
    "\n",
    "print(\"Sorted data:\", sorted_data)\n",
    "print(\"Smallest value:\", min_value)\n",
    "print(\"Largest value:\", max_value)\n",
    "print(\"5-number summary:\")\n",
    "print(\"  Minimum:\", min_value)\n",
    "print(\"  Q1:\", q1)\n",
    "print(\"  Median:\", median)\n",
    "print(\"  Q3:\", q3)\n",
    "print(\"  Maximum:\", max_value)\n",
    "print(\"Interquartile Range (IQR):\", iqr)\n",
    "print(\"Outliers:\", outliers)"
   ]
  },
  {
   "cell_type": "raw",
   "id": "c83b7130-d25c-4433-81fb-d29391a6abd5",
   "metadata": {},
   "source": [
    "5) Create a program that reads a letter of the alphabet from the user. If the user enters a, e, i, o or\n",
    "u then your program should display a message indicating that the entered letter is a vowel. If the\n",
    "user enters y then your program should display a message indicating that sometimes y is a vowel,\n",
    "and sometimes y is a consonant. Otherwise your program should display a message indicating that\n",
    "the letter is a consonant."
   ]
  },
  {
   "cell_type": "code",
   "execution_count": 5,
   "id": "70ea3b76-3203-404a-8c44-eba4b8321cfc",
   "metadata": {},
   "outputs": [
    {
     "name": "stdin",
     "output_type": "stream",
     "text": [
      "Enter a letter of the alphabet:  A\n"
     ]
    },
    {
     "name": "stdout",
     "output_type": "stream",
     "text": [
      "a is a vowel.\n"
     ]
    }
   ],
   "source": [
    "letter = input(\"Enter a letter of the alphabet: \").lower()\n",
    "\n",
    "if letter in 'aeiou':\n",
    "    print(f\"{letter} is a vowel.\")\n",
    "elif letter == 'y':\n",
    "    print(f\"{letter} is sometimes a vowel, and sometimes a consonant.\")\n",
    "else:\n",
    "    print(f\"{letter} is a consonant.\")\n"
   ]
  },
  {
   "cell_type": "code",
   "execution_count": 6,
   "id": "6d3f38fa-aa46-480f-a4c1-fe8b8f1b84be",
   "metadata": {},
   "outputs": [
    {
     "name": "stdin",
     "output_type": "stream",
     "text": [
      "Enter the sound level in decibels:  102\n"
     ]
    },
    {
     "name": "stdout",
     "output_type": "stream",
     "text": [
      "The noise level is between an Alarm clock and a Gas lawnmower.\n"
     ]
    }
   ],
   "source": [
    "noise_levels = {\n",
    "    \"Jackhammer\": 130,\n",
    "    \"Gas lawnmower\": 106,\n",
    "    \"Alarm clock\": 70,\n",
    "    \"Quiet room\": 40\n",
    "}\n",
    "\n",
    "decibel_level = float(input(\"Enter the sound level in decibels: \"))\n",
    "\n",
    "if decibel_level >= 130:\n",
    "    print(\"The noise level is louder than a Jackhammer.\")\n",
    "elif decibel_level >= 106:\n",
    "    print(\"The noise level is between a Gas lawnmower and a Jackhammer.\")\n",
    "elif decibel_level >= 70:\n",
    "    print(\"The noise level is between an Alarm clock and a Gas lawnmower.\")\n",
    "elif decibel_level >= 40:\n",
    "    print(\"The noise level is between a Quiet room and an Alarm clock.\")\n",
    "else:\n",
    "    print(\"The noise level is quieter than a Quiet room.\")\n"
   ]
  },
  {
   "cell_type": "raw",
   "id": "02c2a18c-f782-484e-b976-7642b5fc9f2e",
   "metadata": {},
   "source": [
    "7) The marks obtained by 10 students in a class test were as follows:\n",
    " 38, 41, 36, 31, 45, 38, 27, 32, 29, 39\n",
    "Find:\n",
    " (a) The mean of their marks\n",
    " (b) The mean of their marks when the marks of each student are increased by 2\n",
    " (c) The mean of their marks when one mark is deducted from marks of each student\n",
    " (d) The mean of their marks when the marks of each student halved"
   ]
  },
  {
   "cell_type": "code",
   "execution_count": 7,
   "id": "da369b5a-7e2f-4079-b0b4-5c22bb65f3ca",
   "metadata": {},
   "outputs": [
    {
     "name": "stdout",
     "output_type": "stream",
     "text": [
      "The mean of their marks: 35.60\n",
      "The mean of their marks when increased by 2: 37.60\n",
      "The mean of their marks when one mark is deducted: 34.60\n",
      "The mean of their marks when halved: 17.80\n"
     ]
    }
   ],
   "source": [
    "marks = [38, 41, 36, 31, 45, 38, 27, 32, 29, 39]\n",
    "\n",
    "mean_original = sum(marks) / len(marks)\n",
    "print(f\"The mean of their marks: {mean_original:.2f}\")\n",
    "\n",
    "mean_increased = sum(m + 2 for m in marks) / len(marks)\n",
    "print(f\"The mean of their marks when increased by 2: {mean_increased:.2f}\")\n",
    "\n",
    "mean_deducted = sum(m - 1 for m in marks) / len(marks)\n",
    "print(f\"The mean of their marks when one mark is deducted: {mean_deducted:.2f}\")\n",
    "\n",
    "mean_halved = sum(m / 2 for m in marks) / len(marks)\n",
    "print(f\"The mean of their marks when halved: {mean_halved:.2f}\")\n"
   ]
  },
  {
   "cell_type": "raw",
   "id": "9c21dcc1-5702-4e8a-b6b3-e3b90c4470cc",
   "metadata": {},
   "source": [
    "8) When analysing data collected as part of a science experiment it may be desirable to remove\n",
    "the most extreme values before performing other calculations. Write a function that takes a list of\n",
    "values and an non-negative integer, n, as its parameters. The function should create a new copy of\n",
    "the list with the n largest elements and the n smallest elements removed. Then it should return the\n",
    "new copy of the list as the function’s only result. The order of the elements in the returned list does\n",
    "not have to match the order of the elements in the original list.\n",
    "Your function should read a list of numbers from the user and remove the two largest and two\n",
    "smallest values from it. Display the list with the outliers removed, followed by the original list.\n",
    "Your program should generate an appropriate error message if the user enters less than 4 values."
   ]
  },
  {
   "cell_type": "code",
   "execution_count": 8,
   "id": "8acada81-6dd5-4d3d-8938-97adee7efb66",
   "metadata": {},
   "outputs": [
    {
     "name": "stdin",
     "output_type": "stream",
     "text": [
      "Enter a list of numbers separated by spaces:  1  3 4 5 6 7 8 9\n"
     ]
    },
    {
     "name": "stdout",
     "output_type": "stream",
     "text": [
      "Original list: [1, 3, 4, 5, 6, 7, 8, 9]\n",
      "List with outliers removed: [4, 5, 6, 7]\n"
     ]
    }
   ],
   "source": [
    "def remove_extremes(values, n):\n",
    "    if len(values) < 2 * n:\n",
    "        raise ValueError(\"The list must contain at least 2 * n values.\")\n",
    "    sorted_values = sorted(values)\n",
    "    return sorted_values[n:-n]\n",
    "\n",
    "user_input = input(\"Enter a list of numbers separated by spaces: \")\n",
    "values = list(map(int, user_input.split()))\n",
    "\n",
    "if len(values) < 4:\n",
    "    print(\"Error: You must enter at least 4 values.\")\n",
    "else:\n",
    "    n = 2\n",
    "    filtered_values = remove_extremes(values, n)\n",
    "    print(\"Original list:\", values)\n",
    "    print(\"List with outliers removed:\", filtered_values)\n"
   ]
  },
  {
   "cell_type": "code",
   "execution_count": null,
   "id": "e9af7b85-d2c9-4727-9c74-d12102e5ef2b",
   "metadata": {},
   "outputs": [],
   "source": []
  }
 ],
 "metadata": {
  "kernelspec": {
   "display_name": "Python 3 (ipykernel)",
   "language": "python",
   "name": "python3"
  },
  "language_info": {
   "codemirror_mode": {
    "name": "ipython",
    "version": 3
   },
   "file_extension": ".py",
   "mimetype": "text/x-python",
   "name": "python",
   "nbconvert_exporter": "python",
   "pygments_lexer": "ipython3",
   "version": "3.11.4"
  }
 },
 "nbformat": 4,
 "nbformat_minor": 5
}
