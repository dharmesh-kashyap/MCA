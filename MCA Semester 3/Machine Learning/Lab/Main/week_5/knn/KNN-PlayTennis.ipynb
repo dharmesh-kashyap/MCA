{
 "cells": [
  {
   "cell_type": "code",
   "execution_count": 5,
   "id": "1b7b3fbb-04d8-4495-976c-1485ef1aee6a",
   "metadata": {},
   "outputs": [],
   "source": [
    "import matplotlib.pyplot as plt\n",
    "import numpy as np\n",
    "import pandas as pd\n",
    "from sklearn.model_selection import train_test_split\n",
    "from sklearn.neighbors import KNeighborsClassifier\n",
    "from sklearn.metrics import mean_squared_error, r2_score\n",
    "from sklearn.metrics import accuracy_score,classification_report, confusion_matrix"
   ]
  },
  {
   "cell_type": "code",
   "execution_count": 6,
   "id": "90a25135-16a7-4ac4-8912-39b3b3302afa",
   "metadata": {},
   "outputs": [
    {
     "data": {
      "text/html": [
       "<div>\n",
       "<style scoped>\n",
       "    .dataframe tbody tr th:only-of-type {\n",
       "        vertical-align: middle;\n",
       "    }\n",
       "\n",
       "    .dataframe tbody tr th {\n",
       "        vertical-align: top;\n",
       "    }\n",
       "\n",
       "    .dataframe thead th {\n",
       "        text-align: right;\n",
       "    }\n",
       "</style>\n",
       "<table border=\"1\" class=\"dataframe\">\n",
       "  <thead>\n",
       "    <tr style=\"text-align: right;\">\n",
       "      <th></th>\n",
       "      <th>day</th>\n",
       "      <th>outlook</th>\n",
       "      <th>temp</th>\n",
       "      <th>humidity</th>\n",
       "      <th>wind</th>\n",
       "      <th>play</th>\n",
       "    </tr>\n",
       "  </thead>\n",
       "  <tbody>\n",
       "    <tr>\n",
       "      <th>0</th>\n",
       "      <td>D1</td>\n",
       "      <td>Sunny</td>\n",
       "      <td>Hot</td>\n",
       "      <td>High</td>\n",
       "      <td>Weak</td>\n",
       "      <td>No</td>\n",
       "    </tr>\n",
       "    <tr>\n",
       "      <th>1</th>\n",
       "      <td>D2</td>\n",
       "      <td>Sunny</td>\n",
       "      <td>Hot</td>\n",
       "      <td>High</td>\n",
       "      <td>Strong</td>\n",
       "      <td>No</td>\n",
       "    </tr>\n",
       "    <tr>\n",
       "      <th>2</th>\n",
       "      <td>D3</td>\n",
       "      <td>Overcast</td>\n",
       "      <td>Hot</td>\n",
       "      <td>High</td>\n",
       "      <td>Weak</td>\n",
       "      <td>Yes</td>\n",
       "    </tr>\n",
       "    <tr>\n",
       "      <th>3</th>\n",
       "      <td>D4</td>\n",
       "      <td>Rain</td>\n",
       "      <td>Mild</td>\n",
       "      <td>High</td>\n",
       "      <td>Weak</td>\n",
       "      <td>Yes</td>\n",
       "    </tr>\n",
       "    <tr>\n",
       "      <th>4</th>\n",
       "      <td>D5</td>\n",
       "      <td>Rain</td>\n",
       "      <td>Cool</td>\n",
       "      <td>Normal</td>\n",
       "      <td>Weak</td>\n",
       "      <td>Yes</td>\n",
       "    </tr>\n",
       "  </tbody>\n",
       "</table>\n",
       "</div>"
      ],
      "text/plain": [
       "  day   outlook  temp humidity    wind play\n",
       "0  D1     Sunny   Hot     High    Weak   No\n",
       "1  D2     Sunny   Hot     High  Strong   No\n",
       "2  D3  Overcast   Hot     High    Weak  Yes\n",
       "3  D4      Rain  Mild     High    Weak  Yes\n",
       "4  D5      Rain  Cool   Normal    Weak  Yes"
      ]
     },
     "execution_count": 6,
     "metadata": {},
     "output_type": "execute_result"
    }
   ],
   "source": [
    "df= pd.read_csv(\"play_tennis.csv\")\n",
    "df.head()"
   ]
  },
  {
   "cell_type": "code",
   "execution_count": 9,
   "id": "ea3baa69-d93c-42c2-8cd6-3ccdeb8dbcf0",
   "metadata": {},
   "outputs": [
    {
     "data": {
      "text/plain": [
       "(14, 6)"
      ]
     },
     "execution_count": 9,
     "metadata": {},
     "output_type": "execute_result"
    }
   ],
   "source": [
    "df.shape"
   ]
  },
  {
   "cell_type": "code",
   "execution_count": 11,
   "id": "a9415db2-bca7-4235-ac42-7b0ec2dccca3",
   "metadata": {},
   "outputs": [
    {
     "data": {
      "text/html": [
       "<div>\n",
       "<style scoped>\n",
       "    .dataframe tbody tr th:only-of-type {\n",
       "        vertical-align: middle;\n",
       "    }\n",
       "\n",
       "    .dataframe tbody tr th {\n",
       "        vertical-align: top;\n",
       "    }\n",
       "\n",
       "    .dataframe thead th {\n",
       "        text-align: right;\n",
       "    }\n",
       "</style>\n",
       "<table border=\"1\" class=\"dataframe\">\n",
       "  <thead>\n",
       "    <tr style=\"text-align: right;\">\n",
       "      <th></th>\n",
       "      <th>day</th>\n",
       "      <th>outlook</th>\n",
       "      <th>temp</th>\n",
       "      <th>humidity</th>\n",
       "      <th>wind</th>\n",
       "      <th>play</th>\n",
       "    </tr>\n",
       "  </thead>\n",
       "  <tbody>\n",
       "    <tr>\n",
       "      <th>0</th>\n",
       "      <td>D1</td>\n",
       "      <td>2</td>\n",
       "      <td>1</td>\n",
       "      <td>0</td>\n",
       "      <td>1</td>\n",
       "      <td>0</td>\n",
       "    </tr>\n",
       "    <tr>\n",
       "      <th>1</th>\n",
       "      <td>D2</td>\n",
       "      <td>2</td>\n",
       "      <td>1</td>\n",
       "      <td>0</td>\n",
       "      <td>0</td>\n",
       "      <td>0</td>\n",
       "    </tr>\n",
       "    <tr>\n",
       "      <th>2</th>\n",
       "      <td>D3</td>\n",
       "      <td>0</td>\n",
       "      <td>1</td>\n",
       "      <td>0</td>\n",
       "      <td>1</td>\n",
       "      <td>1</td>\n",
       "    </tr>\n",
       "    <tr>\n",
       "      <th>3</th>\n",
       "      <td>D4</td>\n",
       "      <td>1</td>\n",
       "      <td>2</td>\n",
       "      <td>0</td>\n",
       "      <td>1</td>\n",
       "      <td>1</td>\n",
       "    </tr>\n",
       "    <tr>\n",
       "      <th>4</th>\n",
       "      <td>D5</td>\n",
       "      <td>1</td>\n",
       "      <td>0</td>\n",
       "      <td>1</td>\n",
       "      <td>1</td>\n",
       "      <td>1</td>\n",
       "    </tr>\n",
       "  </tbody>\n",
       "</table>\n",
       "</div>"
      ],
      "text/plain": [
       "  day  outlook  temp  humidity  wind  play\n",
       "0  D1        2     1         0     1     0\n",
       "1  D2        2     1         0     0     0\n",
       "2  D3        0     1         0     1     1\n",
       "3  D4        1     2         0     1     1\n",
       "4  D5        1     0         1     1     1"
      ]
     },
     "execution_count": 11,
     "metadata": {},
     "output_type": "execute_result"
    }
   ],
   "source": [
    "from sklearn.preprocessing import LabelEncoder\n",
    "le = LabelEncoder()\n",
    "df[ 'play'] = le.fit_transform(df['play'])\n",
    "df[ 'outlook'] = le.fit_transform(df['outlook'])\n",
    "df[ 'temp'] = le.fit_transform(df['temp'])\n",
    "df[ 'humidity'] = le.fit_transform(df['humidity'])\n",
    "df[ 'wind'] = le.fit_transform(df['wind'])\n",
    "df.head()"
   ]
  },
  {
   "cell_type": "code",
   "execution_count": 13,
   "id": "68a30709-dd5c-4e0a-9bbe-94dfccb4e02b",
   "metadata": {},
   "outputs": [
    {
     "data": {
      "text/plain": [
       "array([[2, 1, 0, 1],\n",
       "       [2, 1, 0, 0],\n",
       "       [0, 1, 0, 1],\n",
       "       [1, 2, 0, 1],\n",
       "       [1, 0, 1, 1],\n",
       "       [1, 0, 1, 0],\n",
       "       [0, 0, 1, 0],\n",
       "       [2, 2, 0, 1],\n",
       "       [2, 0, 1, 1],\n",
       "       [1, 2, 1, 1],\n",
       "       [2, 2, 1, 0],\n",
       "       [0, 2, 0, 0],\n",
       "       [0, 1, 1, 1],\n",
       "       [1, 2, 0, 0]])"
      ]
     },
     "execution_count": 13,
     "metadata": {},
     "output_type": "execute_result"
    }
   ],
   "source": [
    "x =df.drop(['day','play'], axis=1).values\n",
    "x"
   ]
  },
  {
   "cell_type": "code",
   "execution_count": 15,
   "id": "35715a8e-b803-49c3-ba22-1cf5dac42cba",
   "metadata": {},
   "outputs": [
    {
     "data": {
      "text/plain": [
       "array([0, 0, 1, 1, 1, 0, 1, 0, 1, 1, 1, 1, 1, 0])"
      ]
     },
     "execution_count": 15,
     "metadata": {},
     "output_type": "execute_result"
    }
   ],
   "source": [
    "y = df['play'].values\n",
    "y"
   ]
  },
  {
   "cell_type": "code",
   "execution_count": 29,
   "id": "c6758c7e-220b-48b5-95aa-ae786e561ed2",
   "metadata": {},
   "outputs": [
    {
     "name": "stdout",
     "output_type": "stream",
     "text": [
      "[0 0 0 1 1]\n",
      "Accuracy: 0.4\n",
      "Classification Report:\n",
      "               precision    recall  f1-score   support\n",
      "\n",
      "           0       0.00      0.00      0.00         0\n",
      "           1       1.00      0.40      0.57         5\n",
      "\n",
      "    accuracy                           0.40         5\n",
      "   macro avg       0.50      0.20      0.29         5\n",
      "weighted avg       1.00      0.40      0.57         5\n",
      "\n",
      "Confusion Matrix:\n",
      " [[0 0]\n",
      " [3 2]]\n",
      "Misclassification Rate: 0.6\n",
      "R2 score 0.0\n"
     ]
    },
    {
     "name": "stderr",
     "output_type": "stream",
     "text": [
      "C:\\ProgramData\\anaconda3\\Lib\\site-packages\\sklearn\\metrics\\_classification.py:1509: UndefinedMetricWarning: Recall is ill-defined and being set to 0.0 in labels with no true samples. Use `zero_division` parameter to control this behavior.\n",
      "  _warn_prf(average, modifier, f\"{metric.capitalize()} is\", len(result))\n",
      "C:\\ProgramData\\anaconda3\\Lib\\site-packages\\sklearn\\metrics\\_classification.py:1509: UndefinedMetricWarning: Recall is ill-defined and being set to 0.0 in labels with no true samples. Use `zero_division` parameter to control this behavior.\n",
      "  _warn_prf(average, modifier, f\"{metric.capitalize()} is\", len(result))\n",
      "C:\\ProgramData\\anaconda3\\Lib\\site-packages\\sklearn\\metrics\\_classification.py:1509: UndefinedMetricWarning: Recall is ill-defined and being set to 0.0 in labels with no true samples. Use `zero_division` parameter to control this behavior.\n",
      "  _warn_prf(average, modifier, f\"{metric.capitalize()} is\", len(result))\n"
     ]
    },
    {
     "data": {
      "text/plain": [
       "[Text(0, 0.5, 'Predicted(1)'), Text(0, 1.5, 'Predicted(0)')]"
      ]
     },
     "execution_count": 29,
     "metadata": {},
     "output_type": "execute_result"
    },
    {
     "data": {
      "image/png": "[encoded data removed]",
      "text/plain": [
       "<Figure size 640x480 with 2 Axes>"
      ]
     },
     "metadata": {},
     "output_type": "display_data"
    }
   ],
   "source": [
    "#iteration 1\n",
    "x_train, x_test, y_train, y_test = train_test_split(x, y, test_size=0.3, random_state=0)\n",
    "model = KNeighborsClassifier(n_neighbors=5)\n",
    "model.fit(x_train, y_train)\n",
    "y_pred = model.predict(x_test)\n",
    "print(y_pred)\n",
    "\n",
    "accuracy = accuracy_score(y_test, y_pred)\n",
    "classification_report_result = classification_report(y_test, y_pred)\n",
    "confusion_matrix_result = confusion_matrix(y_test, y_pred)\n",
    "\n",
    "print(\"Accuracy:\", accuracy)\n",
    "print(\"Classification Report:\\n\", classification_report_result)\n",
    "print(\"Confusion Matrix:\\n\", confusion_matrix_result)\n",
    "\n",
    "misclassification_rate =1-accuracy\n",
    "print(\"Misclassification Rate:\", misclassification_rate)\n",
    "\n",
    "print(\"R2 score\",r2_score(y_test,y_pred))\n",
    "\n",
    "import seaborn as sns\n",
    "ax=plt.subplot()\n",
    "cdf=pd.DataFrame(confusion_matrix_result)\n",
    "sns.heatmap(cdf,annot=True)\n",
    "ax.xaxis.set_ticklabels(labels=['Actual(1)','Actual(0)'])\n",
    "ax.yaxis.set_ticklabels(labels=['Predicted(1)','Predicted(0)'])"
   ]
  },
  {
   "cell_type": "code",
   "execution_count": 27,
   "id": "922b33b8-d4a1-488a-b9c1-0c9165e9460f",
   "metadata": {},
   "outputs": [
    {
     "name": "stdout",
     "output_type": "stream",
     "text": [
      "[1 1 1 1 1]\n",
      "Accuracy: 0.6\n",
      "Classification Report:\n",
      "               precision    recall  f1-score   support\n",
      "\n",
      "           0       0.00      0.00      0.00         2\n",
      "           1       0.60      1.00      0.75         3\n",
      "\n",
      "    accuracy                           0.60         5\n",
      "   macro avg       0.30      0.50      0.38         5\n",
      "weighted avg       0.36      0.60      0.45         5\n",
      "\n",
      "Confusion Matrix:\n",
      " [[0 2]\n",
      " [0 3]]\n",
      "Misclassification Rate: 0.4\n",
      "R2 score -0.6666666666666665\n"
     ]
    },
    {
     "name": "stderr",
     "output_type": "stream",
     "text": [
      "C:\\ProgramData\\anaconda3\\Lib\\site-packages\\sklearn\\metrics\\_classification.py:1509: UndefinedMetricWarning: Precision is ill-defined and being set to 0.0 in labels with no predicted samples. Use `zero_division` parameter to control this behavior.\n",
      "  _warn_prf(average, modifier, f\"{metric.capitalize()} is\", len(result))\n",
      "C:\\ProgramData\\anaconda3\\Lib\\site-packages\\sklearn\\metrics\\_classification.py:1509: UndefinedMetricWarning: Precision is ill-defined and being set to 0.0 in labels with no predicted samples. Use `zero_division` parameter to control this behavior.\n",
      "  _warn_prf(average, modifier, f\"{metric.capitalize()} is\", len(result))\n",
      "C:\\ProgramData\\anaconda3\\Lib\\site-packages\\sklearn\\metrics\\_classification.py:1509: UndefinedMetricWarning: Precision is ill-defined and being set to 0.0 in labels with no predicted samples. Use `zero_division` parameter to control this behavior.\n",
      "  _warn_prf(average, modifier, f\"{metric.capitalize()} is\", len(result))\n"
     ]
    },
    {
     "data": {
      "text/plain": [
       "[Text(0, 0.5, 'Predicted(1)'), Text(0, 1.5, 'Predicted(0)')]"
      ]
     },
     "execution_count": 27,
     "metadata": {},
     "output_type": "execute_result"
    },
    {
     "data": {
      "image/png": "[encoded data removed]",
      "text/plain": [
       "<Figure size 640x480 with 2 Axes>"
      ]
     },
     "metadata": {},
     "output_type": "display_data"
    }
   ],
   "source": [
    "#iteration 1\n",
    "x_train, x_test, y_train, y_test = train_test_split(x, y, test_size=0.3, random_state=42)\n",
    "model = KNeighborsClassifier(n_neighbors=5)\n",
    "model.fit(x_train, y_train)\n",
    "y_pred = model.predict(x_test)\n",
    "print(y_pred)\n",
    "\n",
    "accuracy = accuracy_score(y_test, y_pred)\n",
    "classification_report_result = classification_report(y_test, y_pred)\n",
    "confusion_matrix_result = confusion_matrix(y_test, y_pred)\n",
    "\n",
    "print(\"Accuracy:\", accuracy)\n",
    "print(\"Classification Report:\\n\", classification_report_result)\n",
    "print(\"Confusion Matrix:\\n\", confusion_matrix_result)\n",
    "\n",
    "misclassification_rate =1-accuracy\n",
    "print(\"Misclassification Rate:\", misclassification_rate)\n",
    "\n",
    "print(\"R2 score\",r2_score(y_test,y_pred))\n",
    "\n",
    "import seaborn as sns\n",
    "ax=plt.subplot()\n",
    "cdf=pd.DataFrame(confusion_matrix_result)\n",
    "sns.heatmap(cdf,annot=True)\n",
    "ax.xaxis.set_ticklabels(labels=['Actual(1)','Actual(0)'])\n",
    "ax.yaxis.set_ticklabels(labels=['Predicted(1)','Predicted(0)'])"
   ]
  },
  {
   "cell_type": "code",
   "execution_count": 25,
   "id": "be5269a3-c9ea-4136-a1dd-a03260bb2247",
   "metadata": {},
   "outputs": [
    {
     "name": "stdout",
     "output_type": "stream",
     "text": [
      "[0 0 0 1 1 1]\n",
      "Accuracy: 0.3333333333333333\n",
      "Classification Report:\n",
      "               precision    recall  f1-score   support\n",
      "\n",
      "           0       0.00      0.00      0.00         1\n",
      "           1       0.67      0.40      0.50         5\n",
      "\n",
      "    accuracy                           0.33         6\n",
      "   macro avg       0.33      0.20      0.25         6\n",
      "weighted avg       0.56      0.33      0.42         6\n",
      "\n",
      "Confusion Matrix:\n",
      " [[0 1]\n",
      " [3 2]]\n",
      "Misclassification Rate: 0.6666666666666667\n",
      "R2 score -3.8\n"
     ]
    },
    {
     "data": {
      "text/plain": [
       "[Text(0, 0.5, 'Predicted(1)'), Text(0, 1.5, 'Predicted(0)')]"
      ]
     },
     "execution_count": 25,
     "metadata": {},
     "output_type": "execute_result"
    },
    {
     "data": {
      "image/png": "[encoded data removed]",
      "text/plain": [
       "<Figure size 640x480 with 2 Axes>"
      ]
     },
     "metadata": {},
     "output_type": "display_data"
    }
   ],
   "source": [
    "#iteration 2\n",
    "x_train, x_test, y_train, y_test = train_test_split(x, y, test_size=0.4, random_state=0)\n",
    "model = KNeighborsClassifier(n_neighbors=5)\n",
    "model.fit(x_train, y_train)\n",
    "y_pred = model.predict(x_test)\n",
    "print(y_pred)\n",
    "\n",
    "accuracy = accuracy_score(y_test, y_pred)\n",
    "classification_report_result = classification_report(y_test, y_pred)\n",
    "confusion_matrix_result = confusion_matrix(y_test, y_pred)\n",
    "\n",
    "print(\"Accuracy:\", accuracy)\n",
    "print(\"Classification Report:\\n\", classification_report_result)\n",
    "print(\"Confusion Matrix:\\n\", confusion_matrix_result)\n",
    "\n",
    "misclassification_rate =1-accuracy\n",
    "print(\"Misclassification Rate:\", misclassification_rate)\n",
    "\n",
    "print(\"R2 score\",r2_score(y_test,y_pred))\n",
    "\n",
    "import seaborn as sns\n",
    "ax=plt.subplot()\n",
    "cdf=pd.DataFrame(confusion_matrix_result)\n",
    "sns.heatmap(cdf,annot=True)\n",
    "ax.xaxis.set_ticklabels(labels=['Actual(1)','Actual(0)'])\n",
    "ax.yaxis.set_ticklabels(labels=['Predicted(1)','Predicted(0)'])"
   ]
  },
  {
   "cell_type": "code",
   "execution_count": 23,
   "id": "9059b5a7-5c7c-4564-ad0a-890e136f6d1c",
   "metadata": {},
   "outputs": [
    {
     "name": "stdout",
     "output_type": "stream",
     "text": [
      "[1 1 0 1 1 1]\n",
      "Accuracy: 0.8333333333333334\n",
      "Classification Report:\n",
      "               precision    recall  f1-score   support\n",
      "\n",
      "           0       1.00      0.50      0.67         2\n",
      "           1       0.80      1.00      0.89         4\n",
      "\n",
      "    accuracy                           0.83         6\n",
      "   macro avg       0.90      0.75      0.78         6\n",
      "weighted avg       0.87      0.83      0.81         6\n",
      "\n",
      "Confusion Matrix:\n",
      " [[1 1]\n",
      " [0 4]]\n",
      "Misclassification Rate: 0.16666666666666663\n",
      "R2 score 0.2500000000000001\n"
     ]
    },
    {
     "data": {
      "text/plain": [
       "[Text(0, 0.5, 'Predicted(1)'), Text(0, 1.5, 'Predicted(0)')]"
      ]
     },
     "execution_count": 23,
     "metadata": {},
     "output_type": "execute_result"
    },
    {
     "data": {
      "image/png": "[encoded data removed]",
      "text/plain": [
       "<Figure size 640x480 with 2 Axes>"
      ]
     },
     "metadata": {},
     "output_type": "display_data"
    }
   ],
   "source": [
    "#iteration 2\n",
    "x_train, x_test, y_train, y_test = train_test_split(x, y, test_size=0.4, random_state=42)\n",
    "model = KNeighborsClassifier(n_neighbors=5)\n",
    "model.fit(x_train, y_train)\n",
    "y_pred = model.predict(x_test)\n",
    "print(y_pred)\n",
    "\n",
    "accuracy = accuracy_score(y_test, y_pred)\n",
    "classification_report_result = classification_report(y_test, y_pred)\n",
    "confusion_matrix_result = confusion_matrix(y_test, y_pred)\n",
    "\n",
    "print(\"Accuracy:\", accuracy)\n",
    "print(\"Classification Report:\\n\", classification_report_result)\n",
    "print(\"Confusion Matrix:\\n\", confusion_matrix_result)\n",
    "\n",
    "misclassification_rate =1-accuracy\n",
    "print(\"Misclassification Rate:\", misclassification_rate)\n",
    "\n",
    "print(\"R2 score\",r2_score(y_test,y_pred))\n",
    "\n",
    "import seaborn as sns\n",
    "ax=plt.subplot()\n",
    "cdf=pd.DataFrame(confusion_matrix_result)\n",
    "sns.heatmap(cdf,annot=True)\n",
    "ax.xaxis.set_ticklabels(labels=['Actual(1)','Actual(0)'])\n",
    "ax.yaxis.set_ticklabels(labels=['Predicted(1)','Predicted(0)'])"
   ]
  },
  {
   "cell_type": "code",
   "execution_count": 19,
   "id": "cbc2de34-5b05-4e46-af84-d1c860a5271a",
   "metadata": {},
   "outputs": [
    {
     "name": "stdout",
     "output_type": "stream",
     "text": [
      "[0 0 0 1 0 0 1]\n",
      "Accuracy: 0.42857142857142855\n",
      "Classification Report:\n",
      "               precision    recall  f1-score   support\n",
      "\n",
      "           0       0.20      1.00      0.33         1\n",
      "           1       1.00      0.33      0.50         6\n",
      "\n",
      "    accuracy                           0.43         7\n",
      "   macro avg       0.60      0.67      0.42         7\n",
      "weighted avg       0.89      0.43      0.48         7\n",
      "\n",
      "Confusion Matrix:\n",
      " [[1 0]\n",
      " [4 2]]\n",
      "Misclassification Rate: 0.5714285714285714\n",
      "R2 score -3.666666666666666\n"
     ]
    },
    {
     "data": {
      "text/plain": [
       "[Text(0, 0.5, 'Predicted(1)'), Text(0, 1.5, 'Predicted(0)')]"
      ]
     },
     "execution_count": 19,
     "metadata": {},
     "output_type": "execute_result"
    },
    {
     "data": {
      "image/png": "[encoded data removed]",
      "text/plain": [
       "<Figure size 640x480 with 2 Axes>"
      ]
     },
     "metadata": {},
     "output_type": "display_data"
    }
   ],
   "source": [
    "#iteration 3\n",
    "x_train, x_test, y_train, y_test = train_test_split(x, y, test_size=0.5, random_state=0)\n",
    "model = KNeighborsClassifier(n_neighbors=5)\n",
    "model.fit(x_train, y_train)\n",
    "y_pred = model.predict(x_test)\n",
    "print(y_pred)\n",
    "\n",
    "accuracy = accuracy_score(y_test, y_pred)\n",
    "classification_report_result = classification_report(y_test, y_pred)\n",
    "confusion_matrix_result = confusion_matrix(y_test, y_pred)\n",
    "\n",
    "print(\"Accuracy:\", accuracy)\n",
    "print(\"Classification Report:\\n\", classification_report_result)\n",
    "print(\"Confusion Matrix:\\n\", confusion_matrix_result)\n",
    "\n",
    "misclassification_rate =1-accuracy\n",
    "print(\"Misclassification Rate:\", misclassification_rate)\n",
    "\n",
    "print(\"R2 score\",r2_score(y_test,y_pred))\n",
    "\n",
    "import seaborn as sns\n",
    "ax=plt.subplot()\n",
    "cdf=pd.DataFrame(confusion_matrix_result)\n",
    "sns.heatmap(cdf,annot=True)\n",
    "ax.xaxis.set_ticklabels(labels=['Actual(1)','Actual(0)'])\n",
    "ax.yaxis.set_ticklabels(labels=['Predicted(1)','Predicted(0)'])"
   ]
  },
  {
   "cell_type": "code",
   "execution_count": 21,
   "id": "9ae42120-ac74-4de9-8f9f-012b6b8dfc26",
   "metadata": {},
   "outputs": [
    {
     "name": "stdout",
     "output_type": "stream",
     "text": [
      "[0 0 1 1 1 1 1]\n",
      "Accuracy: 0.42857142857142855\n",
      "Classification Report:\n",
      "               precision    recall  f1-score   support\n",
      "\n",
      "           0       0.00      0.00      0.00         2\n",
      "           1       0.60      0.60      0.60         5\n",
      "\n",
      "    accuracy                           0.43         7\n",
      "   macro avg       0.30      0.30      0.30         7\n",
      "weighted avg       0.43      0.43      0.43         7\n",
      "\n",
      "Confusion Matrix:\n",
      " [[0 2]\n",
      " [2 3]]\n",
      "Misclassification Rate: 0.5714285714285714\n",
      "R2 score -1.7999999999999994\n"
     ]
    },
    {
     "data": {
      "text/plain": [
       "[Text(0, 0.5, 'Predicted(1)'), Text(0, 1.5, 'Predicted(0)')]"
      ]
     },
     "execution_count": 21,
     "metadata": {},
     "output_type": "execute_result"
    },
    {
     "data": {
      "image/png": "[encoded data removed]",
      "text/plain": [
       "<Figure size 640x480 with 2 Axes>"
      ]
     },
     "metadata": {},
     "output_type": "display_data"
    }
   ],
   "source": [
    "#iteration 3\n",
    "x_train, x_test, y_train, y_test = train_test_split(x, y, test_size=0.5, random_state=42)\n",
    "model = KNeighborsClassifier(n_neighbors=5)\n",
    "model.fit(x_train, y_train)\n",
    "y_pred = model.predict(x_test)\n",
    "print(y_pred)\n",
    "\n",
    "accuracy = accuracy_score(y_test, y_pred)\n",
    "classification_report_result = classification_report(y_test, y_pred)\n",
    "confusion_matrix_result = confusion_matrix(y_test, y_pred)\n",
    "\n",
    "print(\"Accuracy:\", accuracy)\n",
    "print(\"Classification Report:\\n\", classification_report_result)\n",
    "print(\"Confusion Matrix:\\n\", confusion_matrix_result)\n",
    "\n",
    "misclassification_rate =1-accuracy\n",
    "print(\"Misclassification Rate:\", misclassification_rate)\n",
    "\n",
    "print(\"R2 score\",r2_score(y_test,y_pred))\n",
    "\n",
    "import seaborn as sns\n",
    "ax=plt.subplot()\n",
    "cdf=pd.DataFrame(confusion_matrix_result)\n",
    "sns.heatmap(cdf,annot=True)\n",
    "ax.xaxis.set_ticklabels(labels=['Actual(1)','Actual(0)'])\n",
    "ax.yaxis.set_ticklabels(labels=['Predicted(1)','Predicted(0)'])"
   ]
  }
 ],
 "metadata": {
  "kernelspec": {
   "display_name": "Python 3 (ipykernel)",
   "language": "python",
   "name": "python3"
  },
  "language_info": {
   "codemirror_mode": {
    "name": "ipython",
    "version": 3
   },
   "file_extension": ".py",
   "mimetype": "text/x-python",
   "name": "python",
   "nbconvert_exporter": "python",
   "pygments_lexer": "ipython3",
   "version": "3.12.4"
  }
 },
 "nbformat": 4,
 "nbformat_minor": 5
}
